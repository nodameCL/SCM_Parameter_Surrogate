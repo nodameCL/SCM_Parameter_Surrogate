{
 "cells": [
  {
   "cell_type": "code",
   "execution_count": 1,
   "id": "aa15995c-79e6-46cd-9a24-7ce1b08aa892",
   "metadata": {},
   "outputs": [],
   "source": [
    "import os\n",
    "import torch\n",
    "import torch.nn as nn\n",
    "import torch.nn.parallel\n",
    "import torch.nn.functional as F\n",
    "import torch.optim as optim\n",
    "import torch.utils.data\n",
    "from model.pytorchtools import EarlyStopping\n",
    "import model.net as models \n",
    "from model.dataset import SurfaceComplexationDataset\n",
    "from sklearn.metrics import r2_score, mean_squared_error, mean_absolute_error\n",
    "import numpy as np"
   ]
  },
  {
   "cell_type": "code",
   "execution_count": 2,
   "id": "2dabf65c-4f77-410a-862a-9389d267c6a7",
   "metadata": {},
   "outputs": [],
   "source": [
    "def build_optimizer(network, optimizer, learning_rate):\n",
    "    if optimizer == \"sgd\":\n",
    "        optimizer = optim.SGD(network.parameters(),\n",
    "                              lr=learning_rate, momentum=0.9)\n",
    "    elif optimizer == \"adam\":\n",
    "        optimizer = optim.Adam(network.parameters(),\n",
    "                               lr=learning_rate)\n",
    "    \n",
    "    scheduler = optim.lr_scheduler.ReduceLROnPlateau(optimizer, 'min')\n",
    "    return optimizer, scheduler"
   ]
  },
  {
   "cell_type": "code",
   "execution_count": 3,
   "id": "6c161086-184b-4cec-a87a-22d1f679876b",
   "metadata": {},
   "outputs": [],
   "source": [
    "def load_data(data_dir): \n",
    "    train_set = SurfaceComplexationDataset(root_dir=data_dir, split = 'train')\n",
    "    test_set = SurfaceComplexationDataset(root_dir=data_dir, split='test')\n",
    "    val_set = SurfaceComplexationDataset(root_dir=data_dir, split='val')\n",
    "\n",
    "    return train_set, test_set, val_set"
   ]
  },
  {
   "cell_type": "code",
   "execution_count": 4,
   "id": "843d7819-23b1-47b1-b573-23dad110d636",
   "metadata": {},
   "outputs": [],
   "source": [
    "def train_epoch(train_loader, model, optimizer, device, epoch):\n",
    "    \"\"\" Train the model on num_steps batches \n",
    "    Args: \n",
    "        train_loader: a torch.utils.data.DataLoader object that fetches the data\n",
    "        model: the neural network \n",
    "        optimizer: adams \n",
    "    \"\"\"\n",
    "    model.train()\n",
    "    running_loss = 0.0\n",
    "    num_batch = len(train_loader)\n",
    "\n",
    "    for i, (inputs, targets) in enumerate(train_loader): \n",
    "        inputs, targets = inputs.to(device), targets.to(device)\n",
    "        # zero the paramter gradients \n",
    "        optimizer.zero_grad()\n",
    "\n",
    "        # forward + backward + optimize \n",
    "        pred = model(inputs)\n",
    "        loss = F.mse_loss(pred, targets)\n",
    "        loss.backward()\n",
    "        optimizer.step()\n",
    "\n",
    "        # print statistics \n",
    "        running_loss += loss.item()\n",
    "        # if i % 300 == 0: \n",
    "        #     print('[%d: %d/%d] train loss: %f ' % (epoch, i, num_batch, loss.item()))\n",
    "        # if i % 300 == 0: \n",
    "        #     print('[%d: %d/%d] train loss: %f lr = %f' % (epoch, i, num_batch, loss.item(), optimizer.param_groups[0][\"lr\"]))\n",
    "\n",
    "    return running_loss / num_batch "
   ]
  },
  {
   "cell_type": "code",
   "execution_count": 5,
   "id": "eb4f97b0-3644-4355-8cd4-04b109c23baf",
   "metadata": {},
   "outputs": [],
   "source": [
    "def validate(val_dataloader, model, device): \n",
    "    model.eval()\n",
    "    val_running_loss = 0.0 \n",
    "\n",
    "    with torch.no_grad(): \n",
    "        for inputs, targets in val_dataloader:\n",
    "            inputs, targets = inputs.to(device), targets.to(device)\n",
    "\n",
    "            outputs = model(inputs)\n",
    "            loss = F.mse_loss(outputs, targets)\n",
    "\n",
    "            val_running_loss += loss.item() * inputs.size(0)\n",
    "\n",
    "    return val_running_loss / len(val_dataloader.dataset)"
   ]
  },
  {
   "cell_type": "code",
   "execution_count": 6,
   "id": "820314e3-17ea-4f1e-9219-a416d5bf4dbb",
   "metadata": {},
   "outputs": [],
   "source": [
    "def plot_pramas(test_y, test_pred, foldername, outfile): \n",
    "    # print(\"R2 of training is: \", r2_score(train_y, train_pred))\n",
    "    np.savetxt(f'{foldername}/test_pred_{outfile}.txt', test_pred)\n",
    "    np.savetxt(f'{foldername}/test_y_{outfile}.txt', test_y)\n",
    "    \n",
    "    print(\"R2 of test is: \", r2_score(test_y, test_pred[:,4:]))\n",
    "\n",
    "    test_mse = mean_squared_error(test_y, test_pred[:,4:])\n",
    "    test_mae = mean_absolute_error(test_y, test_pred[:,4:])\n",
    "\n",
    "    print('Test set results for %i samples:' % test_pred.shape[0])\n",
    "    print('MSE:', test_mse)\n",
    "    print('MAE:', test_mae)"
   ]
  },
  {
   "cell_type": "code",
   "execution_count": 7,
   "id": "4a8ff46a-50a1-4231-b3d6-5024f3d8087a",
   "metadata": {},
   "outputs": [],
   "source": [
    "def test_accuracy(net, testloader, foldername, outfile, device): \n",
    "    test_pred = []\n",
    "    test_y = []\n",
    "    running_loss = 0 \n",
    "\n",
    "    with torch.no_grad():\n",
    "        for data in testloader:\n",
    "            inputs, targets = data\n",
    "            sys = inputs[:, :4]\n",
    "            inputs, targets = inputs.to(device), targets.to(device)\n",
    "            outputs = net(inputs)\n",
    "            loss = F.mse_loss(outputs, targets)\n",
    "\n",
    "            running_loss += loss.item() \n",
    "\n",
    "            pred_val_numpy = outputs.data.cpu().numpy()\n",
    "            target_val_numpy = targets.data.cpu().numpy()\n",
    "\n",
    "            # test_pred.append(pred_val_numpy)\n",
    "            test_pred.append(np.concatenate([sys.data.cpu().numpy(),pred_val_numpy],axis = 1))\n",
    "            test_y.append(target_val_numpy)\n",
    "\n",
    "    test_pred = np.concatenate(test_pred, axis=0)\n",
    "    test_y = np.concatenate(test_y, axis=0)\n",
    "\n",
    "    plot_pramas(test_y, test_pred, foldername, outfile)\n",
    "\n",
    "    print('MSE loss on test set is:', running_loss / len(testloader.dataset)) "
   ]
  },
  {
   "cell_type": "code",
   "execution_count": 8,
   "id": "4e33e978-778c-4195-8e6f-1c0da8141e92",
   "metadata": {},
   "outputs": [],
   "source": [
    "def train_model(model, device, train_loader, val_loader, test_loader, optimizer, lr_scheduler, isSch, res_dir, name, patience = 20, n_epochs = 100): \n",
    "    # to track the average training loss per epoch as the model trains\n",
    "    avg_train_losses = []\n",
    "    # to track the average validation loss per epoch as the model trains\n",
    "    avg_valid_losses = [] \n",
    "\n",
    "    blue = lambda x: '\\033[94m' + x + '\\033[0m'\n",
    "    \n",
    "    checkpoint_dir = os.path.join(res_dir, 'checkpoints')\n",
    "    try:\n",
    "        os.makedirs(res_dir)\n",
    "        os.makedirs(checkpoint_dir)\n",
    "    except OSError:\n",
    "        pass\n",
    "\n",
    "    checkpoint_path = os.path.join(checkpoint_dir, f'{name}.pt')\n",
    "    # initialize the early_stopping object\n",
    "    early_stopping = EarlyStopping(patience=patience, verbose=True, path = checkpoint_path)\n",
    "\n",
    "    for epoch in tqdm(range(1, n_epochs + 1)):\n",
    "        ###################\n",
    "        # train the model #\n",
    "        ###################\n",
    "        train_epoch_loss = train_epoch(train_loader, model, optimizer, device, epoch)\n",
    "        val_epoch_loss = validate(val_loader, model, device)\n",
    "\n",
    "        # print loss every epoch \n",
    "        print('[%d] train loss: %f ' % (epoch, train_epoch_loss))\n",
    "        print('[%d] %s loss: %f' % (epoch, blue('validate'), val_epoch_loss))\n",
    "\n",
    "        avg_train_losses.append(train_epoch_loss)\n",
    "        avg_valid_losses.append(val_epoch_loss)\n",
    "        \n",
    "        if isSch: \n",
    "            lr_scheduler.step(val_epoch_loss) \n",
    "        \n",
    "        # add early stopping \n",
    "        # early_stopping(val_epoch_loss, model)\n",
    "        early_stopping(train_epoch_loss, model)\n",
    "        if early_stopping.early_stop: \n",
    "            print(\"Early stopping\")\n",
    "            break \n",
    "\n",
    "    np.savetxt(os.path.join(res_dir, f'train_loss_{name}.csv'), avg_train_losses)\n",
    "    np.savetxt(os.path.join(res_dir, f'val_loss_{name}.csv'), avg_valid_losses) \n",
    "\n",
    "    # load the last checkpoint with the best model\n",
    "    model.load_state_dict(torch.load(checkpoint_path)) \n",
    "\n",
    "    # test on test set \n",
    "    test_accuracy(model, test_loader, res_dir, name, device)\n",
    "    # print(optimizer.state_dict())"
   ]
  },
  {
   "cell_type": "code",
   "execution_count": 9,
   "id": "2259efbe-9bc2-40ca-ab64-d0b0c9da05fa",
   "metadata": {},
   "outputs": [],
   "source": [
    "def train_main(config): \n",
    "    data_dir = 'dataset/'\n",
    "\n",
    "    # get dataset \n",
    "    train_set, val_set, test_set = load_data(data_dir)\n",
    "\n",
    "    train_loader = torch.utils.data.DataLoader(\n",
    "        train_set,\n",
    "        batch_size=int(config[\"batch_size\"]),\n",
    "        shuffle=True,\n",
    "        num_workers=4, \n",
    "        pin_memory=False)\n",
    "\n",
    "    val_loader = torch.utils.data.DataLoader(\n",
    "            val_set,\n",
    "            batch_size=int(config[\"batch_size\"]),\n",
    "            shuffle=True,\n",
    "            num_workers=4, \n",
    "            pin_memory=False)\n",
    "\n",
    "    test_loader = torch.utils.data.DataLoader(\n",
    "            test_set, \n",
    "            batch_size=int(config[\"batch_size\"]), \n",
    "            shuffle=True,\n",
    "            num_workers=4, \n",
    "            pin_memory=False)\n",
    "            \n",
    "    print(\"Creating model\")\n",
    "    Model = getattr(models, config['model'])\n",
    "    print('created model is: ', Model)\n",
    "    \n",
    "    model = Model(config['input_dim'], config['batch_norm'], config['layer_norm'], config['constraint'],\n",
    "                     config[\"l1\"], config[\"l2\"], config[\"l3\"], config[\"l4\"], config[\"l5\"])\n",
    "        \n",
    "    name = \"DNN\"\n",
    "    \n",
    "    device = torch.device(\"cuda:0\" if torch.cuda.is_available() else \"cpu\")\n",
    "    model.to(device)\n",
    "\n",
    "    optimizer, lr_scheduler = build_optimizer(model, config['optimizer'], config['lr'])\n",
    "    res_dir = 'DNN_res'\n",
    "    \n",
    "    train_model(model, device, train_loader, val_loader, test_loader, optimizer, lr_scheduler, config['lr_scheduler'], res_dir, name, 20, 5000)"
   ]
  },
  {
   "cell_type": "markdown",
   "id": "75e10d2d-72c3-473e-9b00-28b11768c541",
   "metadata": {
    "tags": []
   },
   "source": [
    "# train DNN "
   ]
  },
  {
   "cell_type": "code",
   "execution_count": 12,
   "id": "6e9cd531-e606-4902-93a9-9a92c00194d6",
   "metadata": {},
   "outputs": [],
   "source": [
    "config = {'input_dim': 664,'l1': 1024, 'l2': 1024, 'l3': 1024, 'l4': 1024, 'l5': 512, \n",
    "          'lr': 0.01, 'batch_size': 128, 'model': 'DeepNet6LayerTune', 'batch_norm': False, \n",
    "          'layer_norm': True, 'lr_scheduler': True, 'constraint': False, 'optimizer': 'adam'}"
   ]
  },
  {
   "cell_type": "code",
   "execution_count": null,
   "id": "ad5f43dc-4a00-4354-98d9-b74941c8ba4f",
   "metadata": {},
   "outputs": [
    {
     "name": "stdout",
     "output_type": "stream",
     "text": [
      "Creating model\n",
      "created model is:  <class 'model.net.DeepNet6LayerTune'>\n"
     ]
    },
    {
     "name": "stderr",
     "output_type": "stream",
     "text": [
      "  0%|          | 1/5000 [01:13<101:25:03, 73.04s/it]"
     ]
    },
    {
     "name": "stdout",
     "output_type": "stream",
     "text": [
      "[1] train loss: 0.018467 \n",
      "[1] \u001b[94mvalidate\u001b[0m loss: 0.013492\n",
      "Validation loss decreased (inf --> 0.018467).  Saving model ...\n"
     ]
    },
    {
     "name": "stderr",
     "output_type": "stream",
     "text": [
      "  0%|          | 2/5000 [02:23<99:33:27, 71.71s/it] "
     ]
    },
    {
     "name": "stdout",
     "output_type": "stream",
     "text": [
      "[2] train loss: 0.009112 \n",
      "[2] \u001b[94mvalidate\u001b[0m loss: 0.007725\n",
      "Validation loss decreased (0.018467 --> 0.009112).  Saving model ...\n"
     ]
    },
    {
     "name": "stderr",
     "output_type": "stream",
     "text": [
      "  0%|          | 3/5000 [03:34<99:10:39, 71.45s/it]"
     ]
    },
    {
     "name": "stdout",
     "output_type": "stream",
     "text": [
      "[3] train loss: 0.008283 \n",
      "[3] \u001b[94mvalidate\u001b[0m loss: 0.008790\n",
      "Validation loss decreased (0.009112 --> 0.008283).  Saving model ...\n"
     ]
    },
    {
     "name": "stderr",
     "output_type": "stream",
     "text": [
      "  0%|          | 4/5000 [04:46<99:08:47, 71.44s/it]"
     ]
    },
    {
     "name": "stdout",
     "output_type": "stream",
     "text": [
      "[4] train loss: 0.007826 \n",
      "[4] \u001b[94mvalidate\u001b[0m loss: 0.007265\n",
      "Validation loss decreased (0.008283 --> 0.007826).  Saving model ...\n"
     ]
    },
    {
     "name": "stderr",
     "output_type": "stream",
     "text": [
      "  0%|          | 5/5000 [05:58<99:24:36, 71.65s/it]"
     ]
    },
    {
     "name": "stdout",
     "output_type": "stream",
     "text": [
      "[5] train loss: 0.007540 \n",
      "[5] \u001b[94mvalidate\u001b[0m loss: 0.010297\n",
      "Validation loss decreased (0.007826 --> 0.007540).  Saving model ...\n"
     ]
    },
    {
     "name": "stderr",
     "output_type": "stream",
     "text": [
      "  0%|          | 6/5000 [07:08<98:46:28, 71.20s/it]"
     ]
    },
    {
     "name": "stdout",
     "output_type": "stream",
     "text": [
      "[6] train loss: 0.007274 \n",
      "[6] \u001b[94mvalidate\u001b[0m loss: 0.008533\n",
      "Validation loss decreased (0.007540 --> 0.007274).  Saving model ...\n"
     ]
    },
    {
     "name": "stderr",
     "output_type": "stream",
     "text": [
      "  0%|          | 7/5000 [08:19<98:23:24, 70.94s/it]"
     ]
    },
    {
     "name": "stdout",
     "output_type": "stream",
     "text": [
      "[7] train loss: 0.007055 \n",
      "[7] \u001b[94mvalidate\u001b[0m loss: 0.006664\n",
      "Validation loss decreased (0.007274 --> 0.007055).  Saving model ...\n"
     ]
    },
    {
     "name": "stderr",
     "output_type": "stream",
     "text": [
      "  0%|          | 8/5000 [09:29<98:07:32, 70.76s/it]"
     ]
    },
    {
     "name": "stdout",
     "output_type": "stream",
     "text": [
      "[8] train loss: 0.006884 \n",
      "[8] \u001b[94mvalidate\u001b[0m loss: 0.006576\n",
      "Validation loss decreased (0.007055 --> 0.006884).  Saving model ...\n"
     ]
    },
    {
     "name": "stderr",
     "output_type": "stream",
     "text": [
      "  0%|          | 9/5000 [10:40<98:02:21, 70.72s/it]"
     ]
    },
    {
     "name": "stdout",
     "output_type": "stream",
     "text": [
      "[9] train loss: 0.006738 \n",
      "[9] \u001b[94mvalidate\u001b[0m loss: 0.008136\n",
      "Validation loss decreased (0.006884 --> 0.006738).  Saving model ...\n"
     ]
    },
    {
     "name": "stderr",
     "output_type": "stream",
     "text": [
      "  0%|          | 10/5000 [11:50<97:44:59, 70.52s/it]"
     ]
    },
    {
     "name": "stdout",
     "output_type": "stream",
     "text": [
      "[10] train loss: 0.006662 \n",
      "[10] \u001b[94mvalidate\u001b[0m loss: 0.006269\n",
      "Validation loss decreased (0.006738 --> 0.006662).  Saving model ...\n"
     ]
    },
    {
     "name": "stderr",
     "output_type": "stream",
     "text": [
      "  0%|          | 11/5000 [13:00<97:34:31, 70.41s/it]"
     ]
    },
    {
     "name": "stdout",
     "output_type": "stream",
     "text": [
      "[11] train loss: 0.006534 \n",
      "[11] \u001b[94mvalidate\u001b[0m loss: 0.006456\n",
      "Validation loss decreased (0.006662 --> 0.006534).  Saving model ...\n"
     ]
    },
    {
     "name": "stderr",
     "output_type": "stream",
     "text": [
      "  0%|          | 12/5000 [14:11<97:54:10, 70.66s/it]"
     ]
    },
    {
     "name": "stdout",
     "output_type": "stream",
     "text": [
      "[12] train loss: 0.006444 \n",
      "[12] \u001b[94mvalidate\u001b[0m loss: 0.005918\n",
      "Validation loss decreased (0.006534 --> 0.006444).  Saving model ...\n"
     ]
    },
    {
     "name": "stderr",
     "output_type": "stream",
     "text": [
      "  0%|          | 13/5000 [15:23<98:14:13, 70.92s/it]"
     ]
    },
    {
     "name": "stdout",
     "output_type": "stream",
     "text": [
      "[13] train loss: 0.006351 \n",
      "[13] \u001b[94mvalidate\u001b[0m loss: 0.006179\n",
      "Validation loss decreased (0.006444 --> 0.006351).  Saving model ...\n"
     ]
    },
    {
     "name": "stderr",
     "output_type": "stream",
     "text": [
      "  0%|          | 14/5000 [16:34<98:21:35, 71.02s/it]"
     ]
    },
    {
     "name": "stdout",
     "output_type": "stream",
     "text": [
      "[14] train loss: 0.006280 \n",
      "[14] \u001b[94mvalidate\u001b[0m loss: 0.007443\n",
      "Validation loss decreased (0.006351 --> 0.006280).  Saving model ...\n"
     ]
    },
    {
     "name": "stderr",
     "output_type": "stream",
     "text": [
      "  0%|          | 15/5000 [17:45<98:30:00, 71.13s/it]"
     ]
    },
    {
     "name": "stdout",
     "output_type": "stream",
     "text": [
      "[15] train loss: 0.006203 \n",
      "[15] \u001b[94mvalidate\u001b[0m loss: 0.007002\n",
      "Validation loss decreased (0.006280 --> 0.006203).  Saving model ...\n"
     ]
    },
    {
     "name": "stderr",
     "output_type": "stream",
     "text": [
      "  0%|          | 16/5000 [18:57<98:42:23, 71.30s/it]"
     ]
    },
    {
     "name": "stdout",
     "output_type": "stream",
     "text": [
      "[16] train loss: 0.006140 \n",
      "[16] \u001b[94mvalidate\u001b[0m loss: 0.007369\n",
      "Validation loss decreased (0.006203 --> 0.006140).  Saving model ...\n"
     ]
    },
    {
     "name": "stderr",
     "output_type": "stream",
     "text": [
      "  0%|          | 17/5000 [20:09<99:11:16, 71.66s/it]"
     ]
    },
    {
     "name": "stdout",
     "output_type": "stream",
     "text": [
      "[17] train loss: 0.006059 \n",
      "[17] \u001b[94mvalidate\u001b[0m loss: 0.006082\n",
      "Validation loss decreased (0.006140 --> 0.006059).  Saving model ...\n"
     ]
    },
    {
     "name": "stderr",
     "output_type": "stream",
     "text": [
      "  0%|          | 18/5000 [21:21<98:59:29, 71.53s/it]"
     ]
    },
    {
     "name": "stdout",
     "output_type": "stream",
     "text": [
      "[18] train loss: 0.005958 \n",
      "[18] \u001b[94mvalidate\u001b[0m loss: 0.006168\n",
      "Validation loss decreased (0.006059 --> 0.005958).  Saving model ...\n"
     ]
    },
    {
     "name": "stderr",
     "output_type": "stream",
     "text": [
      "  0%|          | 19/5000 [22:31<98:29:28, 71.18s/it]"
     ]
    },
    {
     "name": "stdout",
     "output_type": "stream",
     "text": [
      "[19] train loss: 0.005940 \n",
      "[19] \u001b[94mvalidate\u001b[0m loss: 0.005265\n",
      "Validation loss decreased (0.005958 --> 0.005940).  Saving model ...\n"
     ]
    },
    {
     "name": "stderr",
     "output_type": "stream",
     "text": [
      "  0%|          | 20/5000 [23:43<98:47:21, 71.41s/it]"
     ]
    },
    {
     "name": "stdout",
     "output_type": "stream",
     "text": [
      "[20] train loss: 0.005863 \n",
      "[20] \u001b[94mvalidate\u001b[0m loss: 0.006274\n",
      "Validation loss decreased (0.005940 --> 0.005863).  Saving model ...\n"
     ]
    },
    {
     "name": "stderr",
     "output_type": "stream",
     "text": [
      "  0%|          | 21/5000 [24:53<98:10:21, 70.98s/it]"
     ]
    },
    {
     "name": "stdout",
     "output_type": "stream",
     "text": [
      "[21] train loss: 0.005786 \n",
      "[21] \u001b[94mvalidate\u001b[0m loss: 0.006291\n",
      "Validation loss decreased (0.005863 --> 0.005786).  Saving model ...\n"
     ]
    },
    {
     "name": "stderr",
     "output_type": "stream",
     "text": [
      "  0%|          | 22/5000 [26:03<97:34:13, 70.56s/it]"
     ]
    },
    {
     "name": "stdout",
     "output_type": "stream",
     "text": [
      "[22] train loss: 0.005744 \n",
      "[22] \u001b[94mvalidate\u001b[0m loss: 0.005165\n",
      "Validation loss decreased (0.005786 --> 0.005744).  Saving model ...\n"
     ]
    },
    {
     "name": "stderr",
     "output_type": "stream",
     "text": [
      "  0%|          | 23/5000 [27:13<97:21:54, 70.43s/it]"
     ]
    },
    {
     "name": "stdout",
     "output_type": "stream",
     "text": [
      "[23] train loss: 0.005667 \n",
      "[23] \u001b[94mvalidate\u001b[0m loss: 0.005659\n",
      "Validation loss decreased (0.005744 --> 0.005667).  Saving model ...\n"
     ]
    },
    {
     "name": "stderr",
     "output_type": "stream",
     "text": [
      "  0%|          | 24/5000 [28:24<97:49:09, 70.77s/it]"
     ]
    },
    {
     "name": "stdout",
     "output_type": "stream",
     "text": [
      "[24] train loss: 0.005615 \n",
      "[24] \u001b[94mvalidate\u001b[0m loss: 0.005294\n",
      "Validation loss decreased (0.005667 --> 0.005615).  Saving model ...\n"
     ]
    },
    {
     "name": "stderr",
     "output_type": "stream",
     "text": [
      "  0%|          | 25/5000 [29:30<95:48:37, 69.33s/it]"
     ]
    },
    {
     "name": "stdout",
     "output_type": "stream",
     "text": [
      "[25] train loss: 0.005542 \n",
      "[25] \u001b[94mvalidate\u001b[0m loss: 0.005722\n",
      "Validation loss decreased (0.005615 --> 0.005542).  Saving model ...\n"
     ]
    },
    {
     "name": "stderr",
     "output_type": "stream",
     "text": [
      "  1%|          | 26/5000 [30:34<93:24:50, 67.61s/it]"
     ]
    },
    {
     "name": "stdout",
     "output_type": "stream",
     "text": [
      "[26] train loss: 0.005482 \n",
      "[26] \u001b[94mvalidate\u001b[0m loss: 0.005938\n",
      "Validation loss decreased (0.005542 --> 0.005482).  Saving model ...\n"
     ]
    },
    {
     "name": "stderr",
     "output_type": "stream",
     "text": [
      "  1%|          | 27/5000 [31:39<92:32:55, 67.00s/it]"
     ]
    },
    {
     "name": "stdout",
     "output_type": "stream",
     "text": [
      "[27] train loss: 0.005453 \n",
      "[27] \u001b[94mvalidate\u001b[0m loss: 0.005541\n",
      "Validation loss decreased (0.005482 --> 0.005453).  Saving model ...\n"
     ]
    },
    {
     "name": "stderr",
     "output_type": "stream",
     "text": [
      "  1%|          | 28/5000 [32:48<93:06:47, 67.42s/it]"
     ]
    },
    {
     "name": "stdout",
     "output_type": "stream",
     "text": [
      "[28] train loss: 0.005353 \n",
      "[28] \u001b[94mvalidate\u001b[0m loss: 0.005673\n",
      "Validation loss decreased (0.005453 --> 0.005353).  Saving model ...\n"
     ]
    },
    {
     "name": "stderr",
     "output_type": "stream",
     "text": [
      "  1%|          | 29/5000 [33:58<94:12:26, 68.23s/it]"
     ]
    },
    {
     "name": "stdout",
     "output_type": "stream",
     "text": [
      "[29] train loss: 0.005317 \n",
      "[29] \u001b[94mvalidate\u001b[0m loss: 0.004989\n",
      "Validation loss decreased (0.005353 --> 0.005317).  Saving model ...\n"
     ]
    },
    {
     "name": "stderr",
     "output_type": "stream",
     "text": [
      "  1%|          | 30/5000 [35:09<95:23:01, 69.09s/it]"
     ]
    },
    {
     "name": "stdout",
     "output_type": "stream",
     "text": [
      "[30] train loss: 0.005246 \n",
      "[30] \u001b[94mvalidate\u001b[0m loss: 0.005713\n",
      "Validation loss decreased (0.005317 --> 0.005246).  Saving model ...\n"
     ]
    },
    {
     "name": "stderr",
     "output_type": "stream",
     "text": [
      "  1%|          | 31/5000 [36:20<96:11:26, 69.69s/it]"
     ]
    },
    {
     "name": "stdout",
     "output_type": "stream",
     "text": [
      "[31] train loss: 0.005201 \n",
      "[31] \u001b[94mvalidate\u001b[0m loss: 0.005474\n",
      "Validation loss decreased (0.005246 --> 0.005201).  Saving model ...\n"
     ]
    },
    {
     "name": "stderr",
     "output_type": "stream",
     "text": [
      "  1%|          | 32/5000 [37:31<96:39:42, 70.04s/it]"
     ]
    },
    {
     "name": "stdout",
     "output_type": "stream",
     "text": [
      "[32] train loss: 0.005133 \n",
      "[32] \u001b[94mvalidate\u001b[0m loss: 0.005299\n",
      "Validation loss decreased (0.005201 --> 0.005133).  Saving model ...\n"
     ]
    },
    {
     "name": "stderr",
     "output_type": "stream",
     "text": [
      "  1%|          | 33/5000 [38:42<97:00:27, 70.31s/it]"
     ]
    },
    {
     "name": "stdout",
     "output_type": "stream",
     "text": [
      "[33] train loss: 0.005065 \n",
      "[33] \u001b[94mvalidate\u001b[0m loss: 0.004832\n",
      "Validation loss decreased (0.005133 --> 0.005065).  Saving model ...\n"
     ]
    },
    {
     "name": "stderr",
     "output_type": "stream",
     "text": [
      "  1%|          | 34/5000 [39:53<97:20:10, 70.56s/it]"
     ]
    },
    {
     "name": "stdout",
     "output_type": "stream",
     "text": [
      "[34] train loss: 0.005053 \n",
      "[34] \u001b[94mvalidate\u001b[0m loss: 0.004880\n",
      "Validation loss decreased (0.005065 --> 0.005053).  Saving model ...\n"
     ]
    },
    {
     "name": "stderr",
     "output_type": "stream",
     "text": [
      "  1%|          | 35/5000 [40:59<95:19:55, 69.12s/it]"
     ]
    },
    {
     "name": "stdout",
     "output_type": "stream",
     "text": [
      "[35] train loss: 0.004957 \n",
      "[35] \u001b[94mvalidate\u001b[0m loss: 0.005009\n",
      "Validation loss decreased (0.005053 --> 0.004957).  Saving model ...\n"
     ]
    },
    {
     "name": "stderr",
     "output_type": "stream",
     "text": [
      "  1%|          | 36/5000 [42:05<93:56:41, 68.13s/it]"
     ]
    },
    {
     "name": "stdout",
     "output_type": "stream",
     "text": [
      "[36] train loss: 0.004890 \n",
      "[36] \u001b[94mvalidate\u001b[0m loss: 0.005955\n",
      "Validation loss decreased (0.004957 --> 0.004890).  Saving model ...\n"
     ]
    },
    {
     "name": "stderr",
     "output_type": "stream",
     "text": [
      "  1%|          | 37/5000 [43:16<95:09:08, 69.02s/it]"
     ]
    },
    {
     "name": "stdout",
     "output_type": "stream",
     "text": [
      "[37] train loss: 0.004848 \n",
      "[37] \u001b[94mvalidate\u001b[0m loss: 0.004798\n",
      "Validation loss decreased (0.004890 --> 0.004848).  Saving model ...\n"
     ]
    },
    {
     "name": "stderr",
     "output_type": "stream",
     "text": [
      "  1%|          | 38/5000 [44:19<92:46:56, 67.31s/it]"
     ]
    },
    {
     "name": "stdout",
     "output_type": "stream",
     "text": [
      "[38] train loss: 0.004767 \n",
      "[38] \u001b[94mvalidate\u001b[0m loss: 0.005036\n",
      "Validation loss decreased (0.004848 --> 0.004767).  Saving model ...\n"
     ]
    },
    {
     "name": "stderr",
     "output_type": "stream",
     "text": [
      "  1%|          | 39/5000 [45:26<92:35:50, 67.19s/it]"
     ]
    },
    {
     "name": "stdout",
     "output_type": "stream",
     "text": [
      "[39] train loss: 0.004725 \n",
      "[39] \u001b[94mvalidate\u001b[0m loss: 0.005297\n",
      "Validation loss decreased (0.004767 --> 0.004725).  Saving model ...\n"
     ]
    },
    {
     "name": "stderr",
     "output_type": "stream",
     "text": [
      "  1%|          | 40/5000 [46:36<93:53:30, 68.15s/it]"
     ]
    },
    {
     "name": "stdout",
     "output_type": "stream",
     "text": [
      "[40] train loss: 0.004683 \n",
      "[40] \u001b[94mvalidate\u001b[0m loss: 0.004780\n",
      "Validation loss decreased (0.004725 --> 0.004683).  Saving model ...\n"
     ]
    },
    {
     "name": "stderr",
     "output_type": "stream",
     "text": [
      "  1%|          | 41/5000 [47:47<94:52:00, 68.87s/it]"
     ]
    },
    {
     "name": "stdout",
     "output_type": "stream",
     "text": [
      "[41] train loss: 0.004630 \n",
      "[41] \u001b[94mvalidate\u001b[0m loss: 0.004825\n",
      "Validation loss decreased (0.004683 --> 0.004630).  Saving model ...\n"
     ]
    },
    {
     "name": "stderr",
     "output_type": "stream",
     "text": [
      "  1%|          | 42/5000 [48:53<93:34:55, 67.95s/it]"
     ]
    },
    {
     "name": "stdout",
     "output_type": "stream",
     "text": [
      "[42] train loss: 0.004569 \n",
      "[42] \u001b[94mvalidate\u001b[0m loss: 0.004653\n",
      "Validation loss decreased (0.004630 --> 0.004569).  Saving model ...\n"
     ]
    },
    {
     "name": "stderr",
     "output_type": "stream",
     "text": [
      "  1%|          | 43/5000 [50:01<93:53:31, 68.19s/it]"
     ]
    },
    {
     "name": "stdout",
     "output_type": "stream",
     "text": [
      "[43] train loss: 0.004505 \n",
      "[43] \u001b[94mvalidate\u001b[0m loss: 0.004415\n",
      "Validation loss decreased (0.004569 --> 0.004505).  Saving model ...\n"
     ]
    },
    {
     "name": "stderr",
     "output_type": "stream",
     "text": [
      "  1%|          | 44/5000 [51:11<94:37:40, 68.74s/it]"
     ]
    },
    {
     "name": "stdout",
     "output_type": "stream",
     "text": [
      "[44] train loss: 0.004452 \n",
      "[44] \u001b[94mvalidate\u001b[0m loss: 0.004154\n",
      "Validation loss decreased (0.004505 --> 0.004452).  Saving model ...\n"
     ]
    },
    {
     "name": "stderr",
     "output_type": "stream",
     "text": [
      "  1%|          | 45/5000 [52:16<92:43:02, 67.36s/it]"
     ]
    },
    {
     "name": "stdout",
     "output_type": "stream",
     "text": [
      "[45] train loss: 0.004419 \n",
      "[45] \u001b[94mvalidate\u001b[0m loss: 0.004636\n",
      "Validation loss decreased (0.004452 --> 0.004419).  Saving model ...\n"
     ]
    },
    {
     "name": "stderr",
     "output_type": "stream",
     "text": [
      "  1%|          | 46/5000 [53:28<94:35:12, 68.73s/it]"
     ]
    },
    {
     "name": "stdout",
     "output_type": "stream",
     "text": [
      "[46] train loss: 0.004367 \n",
      "[46] \u001b[94mvalidate\u001b[0m loss: 0.004445\n",
      "Validation loss decreased (0.004419 --> 0.004367).  Saving model ...\n"
     ]
    },
    {
     "name": "stderr",
     "output_type": "stream",
     "text": [
      "  1%|          | 47/5000 [54:37<95:02:52, 69.08s/it]"
     ]
    },
    {
     "name": "stdout",
     "output_type": "stream",
     "text": [
      "[47] train loss: 0.004300 \n",
      "[47] \u001b[94mvalidate\u001b[0m loss: 0.004499\n",
      "Validation loss decreased (0.004367 --> 0.004300).  Saving model ...\n"
     ]
    },
    {
     "name": "stderr",
     "output_type": "stream",
     "text": [
      "  1%|          | 48/5000 [55:45<94:12:07, 68.48s/it]"
     ]
    },
    {
     "name": "stdout",
     "output_type": "stream",
     "text": [
      "[48] train loss: 0.004246 \n",
      "[48] \u001b[94mvalidate\u001b[0m loss: 0.004785\n",
      "Validation loss decreased (0.004300 --> 0.004246).  Saving model ...\n"
     ]
    },
    {
     "name": "stderr",
     "output_type": "stream",
     "text": [
      "  1%|          | 49/5000 [56:53<94:05:03, 68.41s/it]"
     ]
    },
    {
     "name": "stdout",
     "output_type": "stream",
     "text": [
      "[49] train loss: 0.004200 \n",
      "[49] \u001b[94mvalidate\u001b[0m loss: 0.004432\n",
      "Validation loss decreased (0.004246 --> 0.004200).  Saving model ...\n"
     ]
    },
    {
     "name": "stderr",
     "output_type": "stream",
     "text": [
      "  1%|          | 50/5000 [58:03<94:51:55, 68.99s/it]"
     ]
    },
    {
     "name": "stdout",
     "output_type": "stream",
     "text": [
      "[50] train loss: 0.004155 \n",
      "[50] \u001b[94mvalidate\u001b[0m loss: 0.004951\n",
      "Validation loss decreased (0.004200 --> 0.004155).  Saving model ...\n"
     ]
    },
    {
     "name": "stderr",
     "output_type": "stream",
     "text": [
      "  1%|          | 51/5000 [59:15<95:59:03, 69.82s/it]"
     ]
    },
    {
     "name": "stdout",
     "output_type": "stream",
     "text": [
      "[51] train loss: 0.004117 \n",
      "[51] \u001b[94mvalidate\u001b[0m loss: 0.004223\n",
      "Validation loss decreased (0.004155 --> 0.004117).  Saving model ...\n"
     ]
    },
    {
     "name": "stderr",
     "output_type": "stream",
     "text": [
      "  1%|          | 52/5000 [1:00:27<96:56:26, 70.53s/it]"
     ]
    },
    {
     "name": "stdout",
     "output_type": "stream",
     "text": [
      "[52] train loss: 0.004055 \n",
      "[52] \u001b[94mvalidate\u001b[0m loss: 0.004654\n",
      "Validation loss decreased (0.004117 --> 0.004055).  Saving model ...\n"
     ]
    },
    {
     "name": "stderr",
     "output_type": "stream",
     "text": [
      "  1%|          | 53/5000 [1:01:39<97:18:25, 70.81s/it]"
     ]
    },
    {
     "name": "stdout",
     "output_type": "stream",
     "text": [
      "[53] train loss: 0.004019 \n",
      "[53] \u001b[94mvalidate\u001b[0m loss: 0.004195\n",
      "Validation loss decreased (0.004055 --> 0.004019).  Saving model ...\n"
     ]
    },
    {
     "name": "stderr",
     "output_type": "stream",
     "text": [
      "  1%|          | 54/5000 [1:02:51<97:52:19, 71.24s/it]"
     ]
    },
    {
     "name": "stdout",
     "output_type": "stream",
     "text": [
      "[54] train loss: 0.003966 \n",
      "[54] \u001b[94mvalidate\u001b[0m loss: 0.004351\n",
      "Validation loss decreased (0.004019 --> 0.003966).  Saving model ...\n"
     ]
    },
    {
     "name": "stderr",
     "output_type": "stream",
     "text": [
      "  1%|          | 55/5000 [1:04:02<97:43:37, 71.15s/it]"
     ]
    },
    {
     "name": "stdout",
     "output_type": "stream",
     "text": [
      "[55] train loss: 0.003931 \n",
      "[55] \u001b[94mvalidate\u001b[0m loss: 0.003989\n",
      "Validation loss decreased (0.003966 --> 0.003931).  Saving model ...\n"
     ]
    },
    {
     "name": "stderr",
     "output_type": "stream",
     "text": [
      "  1%|          | 56/5000 [1:05:13<97:45:51, 71.19s/it]"
     ]
    },
    {
     "name": "stdout",
     "output_type": "stream",
     "text": [
      "[56] train loss: 0.003889 \n",
      "[56] \u001b[94mvalidate\u001b[0m loss: 0.004047\n",
      "Validation loss decreased (0.003931 --> 0.003889).  Saving model ...\n"
     ]
    },
    {
     "name": "stderr",
     "output_type": "stream",
     "text": [
      "  1%|          | 57/5000 [1:06:25<98:00:57, 71.39s/it]"
     ]
    },
    {
     "name": "stdout",
     "output_type": "stream",
     "text": [
      "[57] train loss: 0.003831 \n",
      "[57] \u001b[94mvalidate\u001b[0m loss: 0.003821\n",
      "Validation loss decreased (0.003889 --> 0.003831).  Saving model ...\n"
     ]
    },
    {
     "name": "stderr",
     "output_type": "stream",
     "text": [
      "  1%|          | 58/5000 [1:07:36<97:56:36, 71.35s/it]"
     ]
    },
    {
     "name": "stdout",
     "output_type": "stream",
     "text": [
      "[58] train loss: 0.003786 \n",
      "[58] \u001b[94mvalidate\u001b[0m loss: 0.003806\n",
      "Validation loss decreased (0.003831 --> 0.003786).  Saving model ...\n"
     ]
    },
    {
     "name": "stderr",
     "output_type": "stream",
     "text": [
      "  1%|          | 59/5000 [1:08:47<97:53:20, 71.32s/it]"
     ]
    },
    {
     "name": "stdout",
     "output_type": "stream",
     "text": [
      "[59] train loss: 0.003748 \n",
      "[59] \u001b[94mvalidate\u001b[0m loss: 0.003875\n",
      "Validation loss decreased (0.003786 --> 0.003748).  Saving model ...\n"
     ]
    },
    {
     "name": "stderr",
     "output_type": "stream",
     "text": [
      "  1%|          | 60/5000 [1:09:58<97:35:59, 71.13s/it]"
     ]
    },
    {
     "name": "stdout",
     "output_type": "stream",
     "text": [
      "[60] train loss: 0.003723 \n",
      "[60] \u001b[94mvalidate\u001b[0m loss: 0.004106\n",
      "Validation loss decreased (0.003748 --> 0.003723).  Saving model ...\n"
     ]
    },
    {
     "name": "stderr",
     "output_type": "stream",
     "text": [
      "  1%|          | 61/5000 [1:11:09<97:25:06, 71.01s/it]"
     ]
    },
    {
     "name": "stdout",
     "output_type": "stream",
     "text": [
      "[61] train loss: 0.003665 \n",
      "[61] \u001b[94mvalidate\u001b[0m loss: 0.004301\n",
      "Validation loss decreased (0.003723 --> 0.003665).  Saving model ...\n"
     ]
    },
    {
     "name": "stderr",
     "output_type": "stream",
     "text": [
      "  1%|▏         | 63/5000 [1:13:17<92:26:26, 67.41s/it]"
     ]
    },
    {
     "name": "stdout",
     "output_type": "stream",
     "text": [
      "[63] train loss: 0.003599 \n",
      "[63] \u001b[94mvalidate\u001b[0m loss: 0.004651\n",
      "Validation loss decreased (0.003637 --> 0.003599).  Saving model ...\n"
     ]
    },
    {
     "name": "stderr",
     "output_type": "stream",
     "text": [
      "  1%|▏         | 64/5000 [1:14:20<90:34:59, 66.07s/it]"
     ]
    },
    {
     "name": "stdout",
     "output_type": "stream",
     "text": [
      "[64] train loss: 0.003569 \n",
      "[64] \u001b[94mvalidate\u001b[0m loss: 0.003786\n",
      "Validation loss decreased (0.003599 --> 0.003569).  Saving model ...\n"
     ]
    },
    {
     "name": "stderr",
     "output_type": "stream",
     "text": [
      "  1%|▏         | 65/5000 [1:15:24<89:42:34, 65.44s/it]"
     ]
    },
    {
     "name": "stdout",
     "output_type": "stream",
     "text": [
      "[65] train loss: 0.003535 \n",
      "[65] \u001b[94mvalidate\u001b[0m loss: 0.003268\n",
      "Validation loss decreased (0.003569 --> 0.003535).  Saving model ...\n"
     ]
    },
    {
     "name": "stderr",
     "output_type": "stream",
     "text": [
      "  1%|▏         | 66/5000 [1:16:29<89:38:09, 65.40s/it]"
     ]
    },
    {
     "name": "stdout",
     "output_type": "stream",
     "text": [
      "[66] train loss: 0.003484 \n",
      "[66] \u001b[94mvalidate\u001b[0m loss: 0.003876\n",
      "Validation loss decreased (0.003535 --> 0.003484).  Saving model ...\n"
     ]
    },
    {
     "name": "stderr",
     "output_type": "stream",
     "text": [
      "  1%|▏         | 67/5000 [1:17:33<88:55:04, 64.89s/it]"
     ]
    },
    {
     "name": "stdout",
     "output_type": "stream",
     "text": [
      "[67] train loss: 0.003440 \n",
      "[67] \u001b[94mvalidate\u001b[0m loss: 0.003492\n",
      "Validation loss decreased (0.003484 --> 0.003440).  Saving model ...\n"
     ]
    },
    {
     "name": "stderr",
     "output_type": "stream",
     "text": [
      "  1%|▏         | 68/5000 [1:18:37<88:29:16, 64.59s/it]"
     ]
    },
    {
     "name": "stdout",
     "output_type": "stream",
     "text": [
      "[68] train loss: 0.003418 \n",
      "[68] \u001b[94mvalidate\u001b[0m loss: 0.003417\n",
      "Validation loss decreased (0.003440 --> 0.003418).  Saving model ...\n"
     ]
    },
    {
     "name": "stderr",
     "output_type": "stream",
     "text": [
      "  1%|▏         | 69/5000 [1:19:40<87:55:50, 64.20s/it]"
     ]
    },
    {
     "name": "stdout",
     "output_type": "stream",
     "text": [
      "[69] train loss: 0.003380 \n",
      "[69] \u001b[94mvalidate\u001b[0m loss: 0.003988\n",
      "Validation loss decreased (0.003418 --> 0.003380).  Saving model ...\n"
     ]
    },
    {
     "name": "stderr",
     "output_type": "stream",
     "text": [
      "  1%|▏         | 70/5000 [1:20:45<88:06:49, 64.34s/it]"
     ]
    },
    {
     "name": "stdout",
     "output_type": "stream",
     "text": [
      "[70] train loss: 0.003361 \n",
      "[70] \u001b[94mvalidate\u001b[0m loss: 0.003275\n",
      "Validation loss decreased (0.003380 --> 0.003361).  Saving model ...\n"
     ]
    },
    {
     "name": "stderr",
     "output_type": "stream",
     "text": [
      "  1%|▏         | 71/5000 [1:21:48<87:33:45, 63.95s/it]"
     ]
    },
    {
     "name": "stdout",
     "output_type": "stream",
     "text": [
      "[71] train loss: 0.003315 \n",
      "[71] \u001b[94mvalidate\u001b[0m loss: 0.003916\n",
      "Validation loss decreased (0.003361 --> 0.003315).  Saving model ...\n"
     ]
    },
    {
     "name": "stderr",
     "output_type": "stream",
     "text": [
      "  1%|▏         | 72/5000 [1:22:50<86:48:46, 63.42s/it]"
     ]
    },
    {
     "name": "stdout",
     "output_type": "stream",
     "text": [
      "[72] train loss: 0.003290 \n",
      "[72] \u001b[94mvalidate\u001b[0m loss: 0.003383\n",
      "Validation loss decreased (0.003315 --> 0.003290).  Saving model ...\n"
     ]
    },
    {
     "name": "stderr",
     "output_type": "stream",
     "text": [
      "  1%|▏         | 73/5000 [1:23:53<86:45:21, 63.39s/it]"
     ]
    },
    {
     "name": "stdout",
     "output_type": "stream",
     "text": [
      "[73] train loss: 0.003266 \n",
      "[73] \u001b[94mvalidate\u001b[0m loss: 0.003102\n",
      "Validation loss decreased (0.003290 --> 0.003266).  Saving model ...\n"
     ]
    },
    {
     "name": "stderr",
     "output_type": "stream",
     "text": [
      "  1%|▏         | 74/5000 [1:24:57<86:46:45, 63.42s/it]"
     ]
    },
    {
     "name": "stdout",
     "output_type": "stream",
     "text": [
      "[74] train loss: 0.003240 \n",
      "[74] \u001b[94mvalidate\u001b[0m loss: 0.003322\n",
      "Validation loss decreased (0.003266 --> 0.003240).  Saving model ...\n"
     ]
    },
    {
     "name": "stderr",
     "output_type": "stream",
     "text": [
      "  2%|▏         | 75/5000 [1:26:00<86:39:47, 63.35s/it]"
     ]
    },
    {
     "name": "stdout",
     "output_type": "stream",
     "text": [
      "[75] train loss: 0.003213 \n",
      "[75] \u001b[94mvalidate\u001b[0m loss: 0.003305\n",
      "Validation loss decreased (0.003240 --> 0.003213).  Saving model ...\n"
     ]
    },
    {
     "name": "stderr",
     "output_type": "stream",
     "text": [
      "  2%|▏         | 76/5000 [1:27:04<86:47:50, 63.46s/it]"
     ]
    },
    {
     "name": "stdout",
     "output_type": "stream",
     "text": [
      "[76] train loss: 0.003179 \n",
      "[76] \u001b[94mvalidate\u001b[0m loss: 0.003602\n",
      "Validation loss decreased (0.003213 --> 0.003179).  Saving model ...\n"
     ]
    },
    {
     "name": "stderr",
     "output_type": "stream",
     "text": [
      "  2%|▏         | 77/5000 [1:28:08<87:08:58, 63.73s/it]"
     ]
    },
    {
     "name": "stdout",
     "output_type": "stream",
     "text": [
      "[77] train loss: 0.003150 \n",
      "[77] \u001b[94mvalidate\u001b[0m loss: 0.004089\n",
      "Validation loss decreased (0.003179 --> 0.003150).  Saving model ...\n"
     ]
    },
    {
     "name": "stderr",
     "output_type": "stream",
     "text": [
      "  2%|▏         | 78/5000 [1:29:11<86:40:18, 63.39s/it]"
     ]
    },
    {
     "name": "stdout",
     "output_type": "stream",
     "text": [
      "[78] train loss: 0.003131 \n",
      "[78] \u001b[94mvalidate\u001b[0m loss: 0.003320\n",
      "Validation loss decreased (0.003150 --> 0.003131).  Saving model ...\n"
     ]
    },
    {
     "name": "stderr",
     "output_type": "stream",
     "text": [
      "  2%|▏         | 79/5000 [1:30:14<86:30:07, 63.28s/it]"
     ]
    },
    {
     "name": "stdout",
     "output_type": "stream",
     "text": [
      "[79] train loss: 0.003107 \n",
      "[79] \u001b[94mvalidate\u001b[0m loss: 0.003007\n",
      "Validation loss decreased (0.003131 --> 0.003107).  Saving model ...\n"
     ]
    },
    {
     "name": "stderr",
     "output_type": "stream",
     "text": [
      "  2%|▏         | 81/5000 [1:32:22<87:05:26, 63.74s/it]"
     ]
    },
    {
     "name": "stdout",
     "output_type": "stream",
     "text": [
      "[81] train loss: 0.003053 \n",
      "[81] \u001b[94mvalidate\u001b[0m loss: 0.002965\n",
      "Validation loss decreased (0.003058 --> 0.003053).  Saving model ...\n"
     ]
    },
    {
     "name": "stderr",
     "output_type": "stream",
     "text": [
      "  2%|▏         | 82/5000 [1:33:25<86:52:49, 63.60s/it]"
     ]
    },
    {
     "name": "stdout",
     "output_type": "stream",
     "text": [
      "[82] train loss: 0.003010 \n",
      "[82] \u001b[94mvalidate\u001b[0m loss: 0.002860\n",
      "Validation loss decreased (0.003053 --> 0.003010).  Saving model ...\n"
     ]
    },
    {
     "name": "stderr",
     "output_type": "stream",
     "text": [
      "  2%|▏         | 83/5000 [1:34:28<86:21:58, 63.23s/it]"
     ]
    },
    {
     "name": "stdout",
     "output_type": "stream",
     "text": [
      "[83] train loss: 0.002994 \n",
      "[83] \u001b[94mvalidate\u001b[0m loss: 0.003364\n",
      "Validation loss decreased (0.003010 --> 0.002994).  Saving model ...\n"
     ]
    },
    {
     "name": "stderr",
     "output_type": "stream",
     "text": [
      "  2%|▏         | 84/5000 [1:35:32<86:38:53, 63.45s/it]"
     ]
    },
    {
     "name": "stdout",
     "output_type": "stream",
     "text": [
      "[84] train loss: 0.002980 \n",
      "[84] \u001b[94mvalidate\u001b[0m loss: 0.002945\n",
      "Validation loss decreased (0.002994 --> 0.002980).  Saving model ...\n"
     ]
    },
    {
     "name": "stderr",
     "output_type": "stream",
     "text": [
      "  2%|▏         | 85/5000 [1:36:36<87:07:06, 63.81s/it]"
     ]
    },
    {
     "name": "stdout",
     "output_type": "stream",
     "text": [
      "[85] train loss: 0.002949 \n",
      "[85] \u001b[94mvalidate\u001b[0m loss: 0.003091\n",
      "Validation loss decreased (0.002980 --> 0.002949).  Saving model ...\n"
     ]
    },
    {
     "name": "stderr",
     "output_type": "stream",
     "text": [
      "  2%|▏         | 86/5000 [1:37:40<87:08:09, 63.84s/it]"
     ]
    },
    {
     "name": "stdout",
     "output_type": "stream",
     "text": [
      "[86] train loss: 0.002929 \n",
      "[86] \u001b[94mvalidate\u001b[0m loss: 0.002727\n",
      "Validation loss decreased (0.002949 --> 0.002929).  Saving model ...\n"
     ]
    },
    {
     "name": "stderr",
     "output_type": "stream",
     "text": [
      "  2%|▏         | 87/5000 [1:38:43<86:46:40, 63.59s/it]"
     ]
    },
    {
     "name": "stdout",
     "output_type": "stream",
     "text": [
      "[87] train loss: 0.002896 \n",
      "[87] \u001b[94mvalidate\u001b[0m loss: 0.002838\n",
      "Validation loss decreased (0.002929 --> 0.002896).  Saving model ...\n"
     ]
    },
    {
     "name": "stderr",
     "output_type": "stream",
     "text": [
      "  2%|▏         | 88/5000 [1:39:47<86:43:41, 63.56s/it]"
     ]
    },
    {
     "name": "stdout",
     "output_type": "stream",
     "text": [
      "[88] train loss: 0.002898 \n",
      "[88] \u001b[94mvalidate\u001b[0m loss: 0.003202\n",
      "EarlyStopping counter: 1 out of 20\n"
     ]
    },
    {
     "name": "stderr",
     "output_type": "stream",
     "text": [
      "  2%|▏         | 89/5000 [1:40:51<86:57:36, 63.75s/it]"
     ]
    },
    {
     "name": "stdout",
     "output_type": "stream",
     "text": [
      "[89] train loss: 0.002859 \n",
      "[89] \u001b[94mvalidate\u001b[0m loss: 0.003146\n",
      "Validation loss decreased (0.002896 --> 0.002859).  Saving model ...\n"
     ]
    },
    {
     "name": "stderr",
     "output_type": "stream",
     "text": [
      "  2%|▏         | 90/5000 [1:41:53<86:20:14, 63.30s/it]"
     ]
    },
    {
     "name": "stdout",
     "output_type": "stream",
     "text": [
      "[90] train loss: 0.002825 \n",
      "[90] \u001b[94mvalidate\u001b[0m loss: 0.003389\n",
      "Validation loss decreased (0.002859 --> 0.002825).  Saving model ...\n"
     ]
    },
    {
     "name": "stderr",
     "output_type": "stream",
     "text": [
      "  2%|▏         | 91/5000 [1:42:56<85:58:52, 63.05s/it]"
     ]
    },
    {
     "name": "stdout",
     "output_type": "stream",
     "text": [
      "[91] train loss: 0.002827 \n",
      "[91] \u001b[94mvalidate\u001b[0m loss: 0.003124\n",
      "EarlyStopping counter: 1 out of 20\n"
     ]
    },
    {
     "name": "stderr",
     "output_type": "stream",
     "text": [
      "  2%|▏         | 92/5000 [1:43:59<86:05:20, 63.15s/it]"
     ]
    },
    {
     "name": "stdout",
     "output_type": "stream",
     "text": [
      "[92] train loss: 0.002781 \n",
      "[92] \u001b[94mvalidate\u001b[0m loss: 0.003162\n",
      "Validation loss decreased (0.002825 --> 0.002781).  Saving model ...\n"
     ]
    },
    {
     "name": "stderr",
     "output_type": "stream",
     "text": [
      "  2%|▏         | 93/5000 [1:45:05<87:25:21, 64.14s/it]"
     ]
    },
    {
     "name": "stdout",
     "output_type": "stream",
     "text": [
      "[93] train loss: 0.002775 \n",
      "[93] \u001b[94mvalidate\u001b[0m loss: 0.003459\n",
      "Validation loss decreased (0.002781 --> 0.002775).  Saving model ...\n"
     ]
    },
    {
     "name": "stderr",
     "output_type": "stream",
     "text": [
      "  2%|▏         | 94/5000 [1:46:07<86:32:11, 63.50s/it]"
     ]
    },
    {
     "name": "stdout",
     "output_type": "stream",
     "text": [
      "[94] train loss: 0.002760 \n",
      "[94] \u001b[94mvalidate\u001b[0m loss: 0.002969\n",
      "Validation loss decreased (0.002775 --> 0.002760).  Saving model ...\n"
     ]
    },
    {
     "name": "stderr",
     "output_type": "stream",
     "text": [
      "  2%|▏         | 95/5000 [1:47:17<89:11:35, 65.46s/it]"
     ]
    },
    {
     "name": "stdout",
     "output_type": "stream",
     "text": [
      "[95] train loss: 0.002748 \n",
      "[95] \u001b[94mvalidate\u001b[0m loss: 0.002948\n",
      "Validation loss decreased (0.002760 --> 0.002748).  Saving model ...\n"
     ]
    },
    {
     "name": "stderr",
     "output_type": "stream",
     "text": [
      "  2%|▏         | 96/5000 [1:48:28<91:23:25, 67.09s/it]"
     ]
    },
    {
     "name": "stdout",
     "output_type": "stream",
     "text": [
      "[96] train loss: 0.002714 \n",
      "[96] \u001b[94mvalidate\u001b[0m loss: 0.002991\n",
      "Validation loss decreased (0.002748 --> 0.002714).  Saving model ...\n"
     ]
    },
    {
     "name": "stderr",
     "output_type": "stream",
     "text": [
      "  2%|▏         | 97/5000 [1:49:40<93:13:11, 68.45s/it]"
     ]
    },
    {
     "name": "stdout",
     "output_type": "stream",
     "text": [
      "[97] train loss: 0.002704 \n",
      "[97] \u001b[94mvalidate\u001b[0m loss: 0.002715\n",
      "Validation loss decreased (0.002714 --> 0.002704).  Saving model ...\n"
     ]
    },
    {
     "name": "stderr",
     "output_type": "stream",
     "text": [
      "  2%|▏         | 98/5000 [1:50:51<94:22:40, 69.31s/it]"
     ]
    },
    {
     "name": "stdout",
     "output_type": "stream",
     "text": [
      "[98] train loss: 0.002691 \n",
      "[98] \u001b[94mvalidate\u001b[0m loss: 0.002551\n",
      "Validation loss decreased (0.002704 --> 0.002691).  Saving model ...\n"
     ]
    },
    {
     "name": "stderr",
     "output_type": "stream",
     "text": [
      "  2%|▏         | 99/5000 [1:52:03<95:10:51, 69.91s/it]"
     ]
    },
    {
     "name": "stdout",
     "output_type": "stream",
     "text": [
      "[99] train loss: 0.002652 \n",
      "[99] \u001b[94mvalidate\u001b[0m loss: 0.002554\n",
      "Validation loss decreased (0.002691 --> 0.002652).  Saving model ...\n"
     ]
    },
    {
     "name": "stderr",
     "output_type": "stream",
     "text": [
      "  2%|▏         | 100/5000 [1:53:12<95:06:37, 69.88s/it]"
     ]
    },
    {
     "name": "stdout",
     "output_type": "stream",
     "text": [
      "[100] train loss: 0.002640 \n",
      "[100] \u001b[94mvalidate\u001b[0m loss: 0.002955\n",
      "Validation loss decreased (0.002652 --> 0.002640).  Saving model ...\n"
     ]
    },
    {
     "name": "stderr",
     "output_type": "stream",
     "text": [
      "  2%|▏         | 101/5000 [1:54:22<94:51:33, 69.71s/it]"
     ]
    },
    {
     "name": "stdout",
     "output_type": "stream",
     "text": [
      "[101] train loss: 0.002614 \n",
      "[101] \u001b[94mvalidate\u001b[0m loss: 0.002657\n",
      "Validation loss decreased (0.002640 --> 0.002614).  Saving model ...\n"
     ]
    },
    {
     "name": "stderr",
     "output_type": "stream",
     "text": [
      "  2%|▏         | 102/5000 [1:55:34<95:52:53, 70.47s/it]"
     ]
    },
    {
     "name": "stdout",
     "output_type": "stream",
     "text": [
      "[102] train loss: 0.002616 \n",
      "[102] \u001b[94mvalidate\u001b[0m loss: 0.002574\n",
      "EarlyStopping counter: 1 out of 20\n"
     ]
    },
    {
     "name": "stderr",
     "output_type": "stream",
     "text": [
      "  2%|▏         | 103/5000 [1:56:45<96:01:18, 70.59s/it]"
     ]
    },
    {
     "name": "stdout",
     "output_type": "stream",
     "text": [
      "[103] train loss: 0.002595 \n",
      "[103] \u001b[94mvalidate\u001b[0m loss: 0.002811\n",
      "Validation loss decreased (0.002614 --> 0.002595).  Saving model ...\n"
     ]
    },
    {
     "name": "stderr",
     "output_type": "stream",
     "text": [
      "  2%|▏         | 104/5000 [1:57:57<96:35:42, 71.03s/it]"
     ]
    },
    {
     "name": "stdout",
     "output_type": "stream",
     "text": [
      "[104] train loss: 0.002572 \n",
      "[104] \u001b[94mvalidate\u001b[0m loss: 0.002929\n",
      "Validation loss decreased (0.002595 --> 0.002572).  Saving model ...\n"
     ]
    },
    {
     "name": "stderr",
     "output_type": "stream",
     "text": [
      "  2%|▏         | 105/5000 [1:59:08<96:45:52, 71.17s/it]"
     ]
    },
    {
     "name": "stdout",
     "output_type": "stream",
     "text": [
      "[105] train loss: 0.002563 \n",
      "[105] \u001b[94mvalidate\u001b[0m loss: 0.002826\n",
      "Validation loss decreased (0.002572 --> 0.002563).  Saving model ...\n"
     ]
    },
    {
     "name": "stderr",
     "output_type": "stream",
     "text": [
      "  2%|▏         | 106/5000 [2:00:22<97:39:45, 71.84s/it]"
     ]
    },
    {
     "name": "stdout",
     "output_type": "stream",
     "text": [
      "[106] train loss: 0.002537 \n",
      "[106] \u001b[94mvalidate\u001b[0m loss: 0.003518\n",
      "Validation loss decreased (0.002563 --> 0.002537).  Saving model ...\n"
     ]
    },
    {
     "name": "stderr",
     "output_type": "stream",
     "text": [
      "  2%|▏         | 107/5000 [2:01:34<97:42:56, 71.89s/it]"
     ]
    },
    {
     "name": "stdout",
     "output_type": "stream",
     "text": [
      "[107] train loss: 0.002533 \n",
      "[107] \u001b[94mvalidate\u001b[0m loss: 0.002612\n",
      "Validation loss decreased (0.002537 --> 0.002533).  Saving model ...\n"
     ]
    },
    {
     "name": "stderr",
     "output_type": "stream",
     "text": [
      "  2%|▏         | 108/5000 [2:02:45<97:35:13, 71.81s/it]"
     ]
    },
    {
     "name": "stdout",
     "output_type": "stream",
     "text": [
      "[108] train loss: 0.002515 \n",
      "[108] \u001b[94mvalidate\u001b[0m loss: 0.002767\n",
      "Validation loss decreased (0.002533 --> 0.002515).  Saving model ...\n"
     ]
    },
    {
     "name": "stderr",
     "output_type": "stream",
     "text": [
      "  2%|▏         | 109/5000 [2:04:01<98:58:11, 72.85s/it]"
     ]
    },
    {
     "name": "stdout",
     "output_type": "stream",
     "text": [
      "[109] train loss: 0.002504 \n",
      "[109] \u001b[94mvalidate\u001b[0m loss: 0.002976\n",
      "Validation loss decreased (0.002515 --> 0.002504).  Saving model ...\n"
     ]
    },
    {
     "name": "stderr",
     "output_type": "stream",
     "text": [
      "  2%|▏         | 110/5000 [2:05:11<98:06:16, 72.22s/it]"
     ]
    },
    {
     "name": "stdout",
     "output_type": "stream",
     "text": [
      "[110] train loss: 0.001485 \n",
      "[110] \u001b[94mvalidate\u001b[0m loss: 0.001606\n",
      "Validation loss decreased (0.002504 --> 0.001485).  Saving model ...\n"
     ]
    },
    {
     "name": "stderr",
     "output_type": "stream",
     "text": [
      "  2%|▏         | 111/5000 [2:06:23<97:46:32, 72.00s/it]"
     ]
    },
    {
     "name": "stdout",
     "output_type": "stream",
     "text": [
      "[111] train loss: 0.001414 \n",
      "[111] \u001b[94mvalidate\u001b[0m loss: 0.001578\n",
      "Validation loss decreased (0.001485 --> 0.001414).  Saving model ...\n"
     ]
    },
    {
     "name": "stderr",
     "output_type": "stream",
     "text": [
      "  2%|▏         | 112/5000 [2:07:34<97:31:17, 71.82s/it]"
     ]
    },
    {
     "name": "stdout",
     "output_type": "stream",
     "text": [
      "[112] train loss: 0.001384 \n",
      "[112] \u001b[94mvalidate\u001b[0m loss: 0.001628\n",
      "Validation loss decreased (0.001414 --> 0.001384).  Saving model ...\n"
     ]
    },
    {
     "name": "stderr",
     "output_type": "stream",
     "text": [
      "  2%|▏         | 113/5000 [2:08:45<96:51:19, 71.35s/it]"
     ]
    },
    {
     "name": "stdout",
     "output_type": "stream",
     "text": [
      "[113] train loss: 0.001365 \n",
      "[113] \u001b[94mvalidate\u001b[0m loss: 0.001510\n",
      "Validation loss decreased (0.001384 --> 0.001365).  Saving model ...\n"
     ]
    },
    {
     "name": "stderr",
     "output_type": "stream",
     "text": [
      "  2%|▏         | 114/5000 [2:09:55<96:23:22, 71.02s/it]"
     ]
    },
    {
     "name": "stdout",
     "output_type": "stream",
     "text": [
      "[114] train loss: 0.001350 \n",
      "[114] \u001b[94mvalidate\u001b[0m loss: 0.001504\n",
      "Validation loss decreased (0.001365 --> 0.001350).  Saving model ...\n"
     ]
    },
    {
     "name": "stderr",
     "output_type": "stream",
     "text": [
      "  2%|▏         | 115/5000 [2:11:06<96:31:08, 71.13s/it]"
     ]
    },
    {
     "name": "stdout",
     "output_type": "stream",
     "text": [
      "[115] train loss: 0.001335 \n",
      "[115] \u001b[94mvalidate\u001b[0m loss: 0.001556\n",
      "Validation loss decreased (0.001350 --> 0.001335).  Saving model ...\n"
     ]
    },
    {
     "name": "stderr",
     "output_type": "stream",
     "text": [
      "  2%|▏         | 116/5000 [2:12:17<96:16:32, 70.96s/it]"
     ]
    },
    {
     "name": "stdout",
     "output_type": "stream",
     "text": [
      "[116] train loss: 0.001322 \n",
      "[116] \u001b[94mvalidate\u001b[0m loss: 0.001444\n",
      "Validation loss decreased (0.001335 --> 0.001322).  Saving model ...\n"
     ]
    },
    {
     "name": "stderr",
     "output_type": "stream",
     "text": [
      "  2%|▏         | 117/5000 [2:13:28<96:31:51, 71.17s/it]"
     ]
    },
    {
     "name": "stdout",
     "output_type": "stream",
     "text": [
      "[117] train loss: 0.001310 \n",
      "[117] \u001b[94mvalidate\u001b[0m loss: 0.001464\n",
      "Validation loss decreased (0.001322 --> 0.001310).  Saving model ...\n"
     ]
    },
    {
     "name": "stderr",
     "output_type": "stream",
     "text": [
      "  2%|▏         | 118/5000 [2:14:38<95:58:23, 70.77s/it]"
     ]
    },
    {
     "name": "stdout",
     "output_type": "stream",
     "text": [
      "[118] train loss: 0.001303 \n",
      "[118] \u001b[94mvalidate\u001b[0m loss: 0.001498\n",
      "Validation loss decreased (0.001310 --> 0.001303).  Saving model ...\n"
     ]
    },
    {
     "name": "stderr",
     "output_type": "stream",
     "text": [
      "  2%|▏         | 119/5000 [2:15:40<92:22:18, 68.13s/it]"
     ]
    },
    {
     "name": "stdout",
     "output_type": "stream",
     "text": [
      "[119] train loss: 0.001292 \n",
      "[119] \u001b[94mvalidate\u001b[0m loss: 0.001460\n",
      "Validation loss decreased (0.001303 --> 0.001292).  Saving model ...\n"
     ]
    },
    {
     "name": "stderr",
     "output_type": "stream",
     "text": [
      "  2%|▏         | 120/5000 [2:16:45<91:10:32, 67.26s/it]"
     ]
    },
    {
     "name": "stdout",
     "output_type": "stream",
     "text": [
      "[120] train loss: 0.001287 \n",
      "[120] \u001b[94mvalidate\u001b[0m loss: 0.001414\n",
      "Validation loss decreased (0.001292 --> 0.001287).  Saving model ...\n"
     ]
    },
    {
     "name": "stderr",
     "output_type": "stream",
     "text": [
      "  2%|▏         | 121/5000 [2:17:48<89:02:59, 65.71s/it]"
     ]
    },
    {
     "name": "stdout",
     "output_type": "stream",
     "text": [
      "[121] train loss: 0.001275 \n",
      "[121] \u001b[94mvalidate\u001b[0m loss: 0.001466\n",
      "Validation loss decreased (0.001287 --> 0.001275).  Saving model ...\n"
     ]
    },
    {
     "name": "stderr",
     "output_type": "stream",
     "text": [
      "  2%|▏         | 122/5000 [2:18:51<88:02:56, 64.98s/it]"
     ]
    },
    {
     "name": "stdout",
     "output_type": "stream",
     "text": [
      "[122] train loss: 0.001269 \n",
      "[122] \u001b[94mvalidate\u001b[0m loss: 0.001470\n",
      "Validation loss decreased (0.001275 --> 0.001269).  Saving model ...\n"
     ]
    },
    {
     "name": "stderr",
     "output_type": "stream",
     "text": [
      "  2%|▏         | 123/5000 [2:19:55<87:49:23, 64.83s/it]"
     ]
    },
    {
     "name": "stdout",
     "output_type": "stream",
     "text": [
      "[123] train loss: 0.001260 \n",
      "[123] \u001b[94mvalidate\u001b[0m loss: 0.001449\n",
      "Validation loss decreased (0.001269 --> 0.001260).  Saving model ...\n"
     ]
    },
    {
     "name": "stderr",
     "output_type": "stream",
     "text": [
      "  2%|▏         | 124/5000 [2:21:01<88:08:20, 65.07s/it]"
     ]
    },
    {
     "name": "stdout",
     "output_type": "stream",
     "text": [
      "[124] train loss: 0.001257 \n",
      "[124] \u001b[94mvalidate\u001b[0m loss: 0.001411\n",
      "Validation loss decreased (0.001260 --> 0.001257).  Saving model ...\n"
     ]
    },
    {
     "name": "stderr",
     "output_type": "stream",
     "text": [
      "  2%|▎         | 125/5000 [2:22:05<87:47:24, 64.83s/it]"
     ]
    },
    {
     "name": "stdout",
     "output_type": "stream",
     "text": [
      "[125] train loss: 0.001248 \n",
      "[125] \u001b[94mvalidate\u001b[0m loss: 0.001394\n",
      "Validation loss decreased (0.001257 --> 0.001248).  Saving model ...\n"
     ]
    },
    {
     "name": "stderr",
     "output_type": "stream",
     "text": [
      "  3%|▎         | 126/5000 [2:23:08<87:03:39, 64.30s/it]"
     ]
    },
    {
     "name": "stdout",
     "output_type": "stream",
     "text": [
      "[126] train loss: 0.001241 \n",
      "[126] \u001b[94mvalidate\u001b[0m loss: 0.001490\n",
      "Validation loss decreased (0.001248 --> 0.001241).  Saving model ...\n"
     ]
    },
    {
     "name": "stderr",
     "output_type": "stream",
     "text": [
      "  3%|▎         | 127/5000 [2:24:10<86:04:37, 63.59s/it]"
     ]
    },
    {
     "name": "stdout",
     "output_type": "stream",
     "text": [
      "[127] train loss: 0.001238 \n",
      "[127] \u001b[94mvalidate\u001b[0m loss: 0.001378\n",
      "Validation loss decreased (0.001241 --> 0.001238).  Saving model ...\n"
     ]
    },
    {
     "name": "stderr",
     "output_type": "stream",
     "text": [
      "  3%|▎         | 128/5000 [2:25:15<86:32:16, 63.94s/it]"
     ]
    },
    {
     "name": "stdout",
     "output_type": "stream",
     "text": [
      "[128] train loss: 0.001230 \n",
      "[128] \u001b[94mvalidate\u001b[0m loss: 0.001429\n",
      "Validation loss decreased (0.001238 --> 0.001230).  Saving model ...\n"
     ]
    },
    {
     "name": "stderr",
     "output_type": "stream",
     "text": [
      "  3%|▎         | 129/5000 [2:26:18<86:19:20, 63.80s/it]"
     ]
    },
    {
     "name": "stdout",
     "output_type": "stream",
     "text": [
      "[129] train loss: 0.001225 \n",
      "[129] \u001b[94mvalidate\u001b[0m loss: 0.001378\n",
      "Validation loss decreased (0.001230 --> 0.001225).  Saving model ...\n"
     ]
    },
    {
     "name": "stderr",
     "output_type": "stream",
     "text": [
      "  3%|▎         | 130/5000 [2:27:23<86:47:29, 64.16s/it]"
     ]
    },
    {
     "name": "stdout",
     "output_type": "stream",
     "text": [
      "[130] train loss: 0.001221 \n",
      "[130] \u001b[94mvalidate\u001b[0m loss: 0.001399\n",
      "Validation loss decreased (0.001225 --> 0.001221).  Saving model ...\n"
     ]
    },
    {
     "name": "stderr",
     "output_type": "stream",
     "text": [
      "  3%|▎         | 133/5000 [2:30:35<86:22:41, 63.89s/it]"
     ]
    },
    {
     "name": "stdout",
     "output_type": "stream",
     "text": [
      "[133] train loss: 0.001204 \n",
      "[133] \u001b[94mvalidate\u001b[0m loss: 0.001393\n",
      "Validation loss decreased (0.001209 --> 0.001204).  Saving model ...\n"
     ]
    },
    {
     "name": "stderr",
     "output_type": "stream",
     "text": [
      "  3%|▎         | 134/5000 [2:31:40<86:37:28, 64.09s/it]"
     ]
    },
    {
     "name": "stdout",
     "output_type": "stream",
     "text": [
      "[134] train loss: 0.001203 \n",
      "[134] \u001b[94mvalidate\u001b[0m loss: 0.001587\n",
      "Validation loss decreased (0.001204 --> 0.001203).  Saving model ...\n"
     ]
    },
    {
     "name": "stderr",
     "output_type": "stream",
     "text": [
      "  3%|▎         | 135/5000 [2:32:44<86:24:13, 63.94s/it]"
     ]
    },
    {
     "name": "stdout",
     "output_type": "stream",
     "text": [
      "[135] train loss: 0.001194 \n",
      "[135] \u001b[94mvalidate\u001b[0m loss: 0.001338\n",
      "Validation loss decreased (0.001203 --> 0.001194).  Saving model ...\n"
     ]
    },
    {
     "name": "stderr",
     "output_type": "stream",
     "text": [
      "  3%|▎         | 136/5000 [2:33:47<86:02:51, 63.69s/it]"
     ]
    },
    {
     "name": "stdout",
     "output_type": "stream",
     "text": [
      "[136] train loss: 0.001190 \n",
      "[136] \u001b[94mvalidate\u001b[0m loss: 0.001363\n",
      "Validation loss decreased (0.001194 --> 0.001190).  Saving model ...\n"
     ]
    },
    {
     "name": "stderr",
     "output_type": "stream",
     "text": [
      "  3%|▎         | 137/5000 [2:34:50<85:54:57, 63.60s/it]"
     ]
    },
    {
     "name": "stdout",
     "output_type": "stream",
     "text": [
      "[137] train loss: 0.001187 \n",
      "[137] \u001b[94mvalidate\u001b[0m loss: 0.001410\n",
      "Validation loss decreased (0.001190 --> 0.001187).  Saving model ...\n"
     ]
    },
    {
     "name": "stderr",
     "output_type": "stream",
     "text": [
      "  3%|▎         | 138/5000 [2:35:52<85:19:14, 63.17s/it]"
     ]
    },
    {
     "name": "stdout",
     "output_type": "stream",
     "text": [
      "[138] train loss: 0.001184 \n",
      "[138] \u001b[94mvalidate\u001b[0m loss: 0.001332\n",
      "Validation loss decreased (0.001187 --> 0.001184).  Saving model ...\n"
     ]
    },
    {
     "name": "stderr",
     "output_type": "stream",
     "text": [
      "  3%|▎         | 139/5000 [2:36:55<84:57:05, 62.91s/it]"
     ]
    },
    {
     "name": "stdout",
     "output_type": "stream",
     "text": [
      "[139] train loss: 0.001178 \n",
      "[139] \u001b[94mvalidate\u001b[0m loss: 0.001295\n",
      "Validation loss decreased (0.001184 --> 0.001178).  Saving model ...\n"
     ]
    },
    {
     "name": "stderr",
     "output_type": "stream",
     "text": [
      "  3%|▎         | 140/5000 [2:37:59<85:39:34, 63.45s/it]"
     ]
    },
    {
     "name": "stdout",
     "output_type": "stream",
     "text": [
      "[140] train loss: 0.001177 \n",
      "[140] \u001b[94mvalidate\u001b[0m loss: 0.001355\n",
      "Validation loss decreased (0.001178 --> 0.001177).  Saving model ...\n"
     ]
    },
    {
     "name": "stderr",
     "output_type": "stream",
     "text": [
      "  3%|▎         | 141/5000 [2:39:02<85:19:59, 63.22s/it]"
     ]
    },
    {
     "name": "stdout",
     "output_type": "stream",
     "text": [
      "[141] train loss: 0.001175 \n",
      "[141] \u001b[94mvalidate\u001b[0m loss: 0.001315\n",
      "Validation loss decreased (0.001177 --> 0.001175).  Saving model ...\n"
     ]
    },
    {
     "name": "stderr",
     "output_type": "stream",
     "text": [
      "  3%|▎         | 142/5000 [2:40:05<85:19:14, 63.23s/it]"
     ]
    },
    {
     "name": "stdout",
     "output_type": "stream",
     "text": [
      "[142] train loss: 0.001168 \n",
      "[142] \u001b[94mvalidate\u001b[0m loss: 0.001290\n",
      "Validation loss decreased (0.001175 --> 0.001168).  Saving model ...\n"
     ]
    },
    {
     "name": "stderr",
     "output_type": "stream",
     "text": [
      "  3%|▎         | 143/5000 [2:41:09<85:23:11, 63.29s/it]"
     ]
    },
    {
     "name": "stdout",
     "output_type": "stream",
     "text": [
      "[143] train loss: 0.001165 \n",
      "[143] \u001b[94mvalidate\u001b[0m loss: 0.001294\n",
      "Validation loss decreased (0.001168 --> 0.001165).  Saving model ...\n"
     ]
    },
    {
     "name": "stderr",
     "output_type": "stream",
     "text": [
      "  3%|▎         | 144/5000 [2:42:12<85:17:12, 63.23s/it]"
     ]
    },
    {
     "name": "stdout",
     "output_type": "stream",
     "text": [
      "[144] train loss: 0.001162 \n",
      "[144] \u001b[94mvalidate\u001b[0m loss: 0.001292\n",
      "Validation loss decreased (0.001165 --> 0.001162).  Saving model ...\n"
     ]
    },
    {
     "name": "stderr",
     "output_type": "stream",
     "text": [
      "  3%|▎         | 145/5000 [2:43:15<85:16:33, 63.23s/it]"
     ]
    },
    {
     "name": "stdout",
     "output_type": "stream",
     "text": [
      "[145] train loss: 0.001155 \n",
      "[145] \u001b[94mvalidate\u001b[0m loss: 0.001311\n",
      "Validation loss decreased (0.001162 --> 0.001155).  Saving model ...\n"
     ]
    },
    {
     "name": "stderr",
     "output_type": "stream",
     "text": [
      "  3%|▎         | 146/5000 [2:44:18<85:04:24, 63.10s/it]"
     ]
    },
    {
     "name": "stdout",
     "output_type": "stream",
     "text": [
      "[146] train loss: 0.001153 \n",
      "[146] \u001b[94mvalidate\u001b[0m loss: 0.001278\n",
      "Validation loss decreased (0.001155 --> 0.001153).  Saving model ...\n"
     ]
    },
    {
     "name": "stderr",
     "output_type": "stream",
     "text": [
      "  3%|▎         | 147/5000 [2:45:19<84:31:07, 62.70s/it]"
     ]
    },
    {
     "name": "stdout",
     "output_type": "stream",
     "text": [
      "[147] train loss: 0.001149 \n",
      "[147] \u001b[94mvalidate\u001b[0m loss: 0.001373\n",
      "Validation loss decreased (0.001153 --> 0.001149).  Saving model ...\n"
     ]
    },
    {
     "name": "stderr",
     "output_type": "stream",
     "text": [
      "  3%|▎         | 149/5000 [2:47:28<85:38:46, 63.56s/it]"
     ]
    },
    {
     "name": "stdout",
     "output_type": "stream",
     "text": [
      "[149] train loss: 0.001143 \n",
      "[149] \u001b[94mvalidate\u001b[0m loss: 0.001296\n",
      "Validation loss decreased (0.001144 --> 0.001143).  Saving model ...\n"
     ]
    },
    {
     "name": "stderr",
     "output_type": "stream",
     "text": [
      "  3%|▎         | 150/5000 [2:48:33<86:01:09, 63.85s/it]"
     ]
    },
    {
     "name": "stdout",
     "output_type": "stream",
     "text": [
      "[150] train loss: 0.001140 \n",
      "[150] \u001b[94mvalidate\u001b[0m loss: 0.001268\n",
      "Validation loss decreased (0.001143 --> 0.001140).  Saving model ...\n"
     ]
    },
    {
     "name": "stderr",
     "output_type": "stream",
     "text": [
      "  3%|▎         | 151/5000 [2:49:35<85:20:44, 63.36s/it]"
     ]
    },
    {
     "name": "stdout",
     "output_type": "stream",
     "text": [
      "[151] train loss: 0.001137 \n",
      "[151] \u001b[94mvalidate\u001b[0m loss: 0.001425\n",
      "Validation loss decreased (0.001140 --> 0.001137).  Saving model ...\n"
     ]
    },
    {
     "name": "stderr",
     "output_type": "stream",
     "text": [
      "  3%|▎         | 152/5000 [2:50:37<84:58:42, 63.10s/it]"
     ]
    },
    {
     "name": "stdout",
     "output_type": "stream",
     "text": [
      "[152] train loss: 0.001132 \n",
      "[152] \u001b[94mvalidate\u001b[0m loss: 0.001260\n",
      "Validation loss decreased (0.001137 --> 0.001132).  Saving model ...\n"
     ]
    },
    {
     "name": "stderr",
     "output_type": "stream",
     "text": [
      "  3%|▎         | 153/5000 [2:51:40<84:43:17, 62.92s/it]"
     ]
    },
    {
     "name": "stdout",
     "output_type": "stream",
     "text": [
      "[153] train loss: 0.001128 \n",
      "[153] \u001b[94mvalidate\u001b[0m loss: 0.001313\n",
      "Validation loss decreased (0.001132 --> 0.001128).  Saving model ...\n"
     ]
    },
    {
     "name": "stderr",
     "output_type": "stream",
     "text": [
      "  3%|▎         | 154/5000 [2:52:43<84:43:56, 62.95s/it]"
     ]
    },
    {
     "name": "stdout",
     "output_type": "stream",
     "text": [
      "[154] train loss: 0.001126 \n",
      "[154] \u001b[94mvalidate\u001b[0m loss: 0.001260\n",
      "Validation loss decreased (0.001128 --> 0.001126).  Saving model ...\n"
     ]
    },
    {
     "name": "stderr",
     "output_type": "stream",
     "text": [
      "  3%|▎         | 155/5000 [2:53:48<85:32:14, 63.56s/it]"
     ]
    },
    {
     "name": "stdout",
     "output_type": "stream",
     "text": [
      "[155] train loss: 0.001123 \n",
      "[155] \u001b[94mvalidate\u001b[0m loss: 0.001309\n",
      "Validation loss decreased (0.001126 --> 0.001123).  Saving model ...\n"
     ]
    },
    {
     "name": "stderr",
     "output_type": "stream",
     "text": [
      "  3%|▎         | 156/5000 [2:54:50<85:04:46, 63.23s/it]"
     ]
    },
    {
     "name": "stdout",
     "output_type": "stream",
     "text": [
      "[156] train loss: 0.001119 \n",
      "[156] \u001b[94mvalidate\u001b[0m loss: 0.001248\n",
      "Validation loss decreased (0.001123 --> 0.001119).  Saving model ...\n"
     ]
    },
    {
     "name": "stderr",
     "output_type": "stream",
     "text": [
      "  3%|▎         | 157/5000 [2:55:54<85:18:46, 63.42s/it]"
     ]
    },
    {
     "name": "stdout",
     "output_type": "stream",
     "text": [
      "[157] train loss: 0.001117 \n",
      "[157] \u001b[94mvalidate\u001b[0m loss: 0.001228\n",
      "Validation loss decreased (0.001119 --> 0.001117).  Saving model ...\n"
     ]
    },
    {
     "name": "stderr",
     "output_type": "stream",
     "text": [
      "  3%|▎         | 158/5000 [2:56:57<84:56:37, 63.16s/it]"
     ]
    },
    {
     "name": "stdout",
     "output_type": "stream",
     "text": [
      "[158] train loss: 0.001114 \n",
      "[158] \u001b[94mvalidate\u001b[0m loss: 0.001352\n",
      "Validation loss decreased (0.001117 --> 0.001114).  Saving model ...\n"
     ]
    },
    {
     "name": "stderr",
     "output_type": "stream",
     "text": [
      "  3%|▎         | 159/5000 [2:58:00<84:59:09, 63.20s/it]"
     ]
    },
    {
     "name": "stdout",
     "output_type": "stream",
     "text": [
      "[159] train loss: 0.001111 \n",
      "[159] \u001b[94mvalidate\u001b[0m loss: 0.001222\n",
      "Validation loss decreased (0.001114 --> 0.001111).  Saving model ...\n"
     ]
    },
    {
     "name": "stderr",
     "output_type": "stream",
     "text": [
      "  3%|▎         | 160/5000 [2:59:06<85:57:31, 63.94s/it]"
     ]
    },
    {
     "name": "stdout",
     "output_type": "stream",
     "text": [
      "[160] train loss: 0.001106 \n",
      "[160] \u001b[94mvalidate\u001b[0m loss: 0.001237\n",
      "Validation loss decreased (0.001111 --> 0.001106).  Saving model ...\n"
     ]
    },
    {
     "name": "stderr",
     "output_type": "stream",
     "text": [
      "  3%|▎         | 161/5000 [3:00:11<86:28:50, 64.34s/it]"
     ]
    },
    {
     "name": "stdout",
     "output_type": "stream",
     "text": [
      "[161] train loss: 0.001105 \n",
      "[161] \u001b[94mvalidate\u001b[0m loss: 0.001244\n",
      "Validation loss decreased (0.001106 --> 0.001105).  Saving model ...\n"
     ]
    },
    {
     "name": "stderr",
     "output_type": "stream",
     "text": [
      "  3%|▎         | 162/5000 [3:01:14<85:49:54, 63.87s/it]"
     ]
    },
    {
     "name": "stdout",
     "output_type": "stream",
     "text": [
      "[162] train loss: 0.001103 \n",
      "[162] \u001b[94mvalidate\u001b[0m loss: 0.001307\n",
      "Validation loss decreased (0.001105 --> 0.001103).  Saving model ...\n"
     ]
    },
    {
     "name": "stderr",
     "output_type": "stream",
     "text": [
      "  3%|▎         | 163/5000 [3:02:18<85:59:35, 64.00s/it]"
     ]
    },
    {
     "name": "stdout",
     "output_type": "stream",
     "text": [
      "[163] train loss: 0.001101 \n",
      "[163] \u001b[94mvalidate\u001b[0m loss: 0.001298\n",
      "Validation loss decreased (0.001103 --> 0.001101).  Saving model ...\n"
     ]
    },
    {
     "name": "stderr",
     "output_type": "stream",
     "text": [
      "  3%|▎         | 164/5000 [3:03:21<85:36:15, 63.73s/it]"
     ]
    },
    {
     "name": "stdout",
     "output_type": "stream",
     "text": [
      "[164] train loss: 0.001097 \n",
      "[164] \u001b[94mvalidate\u001b[0m loss: 0.001300\n",
      "Validation loss decreased (0.001101 --> 0.001097).  Saving model ...\n"
     ]
    },
    {
     "name": "stderr",
     "output_type": "stream",
     "text": [
      "  3%|▎         | 166/5000 [3:05:30<85:58:04, 64.02s/it]"
     ]
    },
    {
     "name": "stdout",
     "output_type": "stream",
     "text": [
      "[166] train loss: 0.001092 \n",
      "[166] \u001b[94mvalidate\u001b[0m loss: 0.001265\n",
      "Validation loss decreased (0.001096 --> 0.001092).  Saving model ...\n"
     ]
    },
    {
     "name": "stderr",
     "output_type": "stream",
     "text": [
      "  3%|▎         | 167/5000 [3:06:33<85:25:39, 63.63s/it]"
     ]
    },
    {
     "name": "stdout",
     "output_type": "stream",
     "text": [
      "[167] train loss: 0.001090 \n",
      "[167] \u001b[94mvalidate\u001b[0m loss: 0.001304\n",
      "Validation loss decreased (0.001092 --> 0.001090).  Saving model ...\n"
     ]
    },
    {
     "name": "stderr",
     "output_type": "stream",
     "text": [
      "  3%|▎         | 168/5000 [3:07:35<85:05:10, 63.39s/it]"
     ]
    },
    {
     "name": "stdout",
     "output_type": "stream",
     "text": [
      "[168] train loss: 0.001086 \n",
      "[168] \u001b[94mvalidate\u001b[0m loss: 0.001233\n",
      "Validation loss decreased (0.001090 --> 0.001086).  Saving model ...\n"
     ]
    },
    {
     "name": "stderr",
     "output_type": "stream",
     "text": [
      "  3%|▎         | 169/5000 [3:08:38<84:50:58, 63.23s/it]"
     ]
    },
    {
     "name": "stdout",
     "output_type": "stream",
     "text": [
      "[169] train loss: 0.001084 \n",
      "[169] \u001b[94mvalidate\u001b[0m loss: 0.001343\n",
      "Validation loss decreased (0.001086 --> 0.001084).  Saving model ...\n"
     ]
    },
    {
     "name": "stderr",
     "output_type": "stream",
     "text": [
      "  3%|▎         | 170/5000 [3:09:41<84:30:13, 62.98s/it]"
     ]
    },
    {
     "name": "stdout",
     "output_type": "stream",
     "text": [
      "[170] train loss: 0.001083 \n",
      "[170] \u001b[94mvalidate\u001b[0m loss: 0.001281\n",
      "Validation loss decreased (0.001084 --> 0.001083).  Saving model ...\n"
     ]
    },
    {
     "name": "stderr",
     "output_type": "stream",
     "text": [
      "  3%|▎         | 171/5000 [3:10:43<84:03:13, 62.66s/it]"
     ]
    },
    {
     "name": "stdout",
     "output_type": "stream",
     "text": [
      "[171] train loss: 0.000944 \n",
      "[171] \u001b[94mvalidate\u001b[0m loss: 0.001112\n",
      "Validation loss decreased (0.001083 --> 0.000944).  Saving model ...\n"
     ]
    },
    {
     "name": "stderr",
     "output_type": "stream",
     "text": [
      "  3%|▎         | 172/5000 [3:11:46<84:09:47, 62.76s/it]"
     ]
    },
    {
     "name": "stdout",
     "output_type": "stream",
     "text": [
      "[172] train loss: 0.000937 \n",
      "[172] \u001b[94mvalidate\u001b[0m loss: 0.001108\n",
      "Validation loss decreased (0.000944 --> 0.000937).  Saving model ...\n"
     ]
    },
    {
     "name": "stderr",
     "output_type": "stream",
     "text": [
      "  3%|▎         | 173/5000 [3:12:52<85:30:35, 63.77s/it]"
     ]
    },
    {
     "name": "stdout",
     "output_type": "stream",
     "text": [
      "[173] train loss: 0.000934 \n",
      "[173] \u001b[94mvalidate\u001b[0m loss: 0.001112\n",
      "Validation loss decreased (0.000937 --> 0.000934).  Saving model ...\n"
     ]
    },
    {
     "name": "stderr",
     "output_type": "stream",
     "text": [
      "  3%|▎         | 174/5000 [3:13:57<85:59:31, 64.15s/it]"
     ]
    },
    {
     "name": "stdout",
     "output_type": "stream",
     "text": [
      "[174] train loss: 0.000932 \n",
      "[174] \u001b[94mvalidate\u001b[0m loss: 0.001109\n",
      "Validation loss decreased (0.000934 --> 0.000932).  Saving model ...\n"
     ]
    },
    {
     "name": "stderr",
     "output_type": "stream",
     "text": [
      "  4%|▎         | 175/5000 [3:15:01<86:05:49, 64.24s/it]"
     ]
    },
    {
     "name": "stdout",
     "output_type": "stream",
     "text": [
      "[175] train loss: 0.000931 \n",
      "[175] \u001b[94mvalidate\u001b[0m loss: 0.001108\n",
      "Validation loss decreased (0.000932 --> 0.000931).  Saving model ...\n"
     ]
    },
    {
     "name": "stderr",
     "output_type": "stream",
     "text": [
      "  4%|▎         | 176/5000 [3:16:04<85:33:45, 63.85s/it]"
     ]
    },
    {
     "name": "stdout",
     "output_type": "stream",
     "text": [
      "[176] train loss: 0.000930 \n",
      "[176] \u001b[94mvalidate\u001b[0m loss: 0.001104\n",
      "Validation loss decreased (0.000931 --> 0.000930).  Saving model ...\n"
     ]
    },
    {
     "name": "stderr",
     "output_type": "stream",
     "text": [
      "  4%|▎         | 177/5000 [3:17:09<85:47:18, 64.03s/it]"
     ]
    },
    {
     "name": "stdout",
     "output_type": "stream",
     "text": [
      "[177] train loss: 0.000929 \n",
      "[177] \u001b[94mvalidate\u001b[0m loss: 0.001104\n",
      "Validation loss decreased (0.000930 --> 0.000929).  Saving model ...\n"
     ]
    },
    {
     "name": "stderr",
     "output_type": "stream",
     "text": [
      "  4%|▎         | 178/5000 [3:18:12<85:35:19, 63.90s/it]"
     ]
    },
    {
     "name": "stdout",
     "output_type": "stream",
     "text": [
      "[178] train loss: 0.000928 \n",
      "[178] \u001b[94mvalidate\u001b[0m loss: 0.001101\n",
      "Validation loss decreased (0.000929 --> 0.000928).  Saving model ...\n"
     ]
    },
    {
     "name": "stderr",
     "output_type": "stream",
     "text": [
      "  4%|▎         | 179/5000 [3:19:17<85:48:18, 64.07s/it]"
     ]
    },
    {
     "name": "stdout",
     "output_type": "stream",
     "text": [
      "[179] train loss: 0.000926 \n",
      "[179] \u001b[94mvalidate\u001b[0m loss: 0.001094\n",
      "Validation loss decreased (0.000928 --> 0.000926).  Saving model ...\n"
     ]
    },
    {
     "name": "stderr",
     "output_type": "stream",
     "text": [
      "  4%|▎         | 180/5000 [3:20:21<85:44:19, 64.04s/it]"
     ]
    },
    {
     "name": "stdout",
     "output_type": "stream",
     "text": [
      "[180] train loss: 0.000925 \n",
      "[180] \u001b[94mvalidate\u001b[0m loss: 0.001092\n",
      "Validation loss decreased (0.000926 --> 0.000925).  Saving model ...\n"
     ]
    },
    {
     "name": "stderr",
     "output_type": "stream",
     "text": [
      "  4%|▎         | 181/5000 [3:21:24<85:26:01, 63.82s/it]"
     ]
    },
    {
     "name": "stdout",
     "output_type": "stream",
     "text": [
      "[181] train loss: 0.000925 \n",
      "[181] \u001b[94mvalidate\u001b[0m loss: 0.001098\n",
      "Validation loss decreased (0.000925 --> 0.000925).  Saving model ...\n"
     ]
    },
    {
     "name": "stderr",
     "output_type": "stream",
     "text": [
      "  4%|▎         | 184/5000 [3:24:33<84:46:58, 63.38s/it]"
     ]
    },
    {
     "name": "stdout",
     "output_type": "stream",
     "text": [
      "[184] train loss: 0.000922 \n",
      "[184] \u001b[94mvalidate\u001b[0m loss: 0.001094\n",
      "Validation loss decreased (0.000923 --> 0.000922).  Saving model ...\n"
     ]
    },
    {
     "name": "stderr",
     "output_type": "stream",
     "text": [
      "  4%|▎         | 185/5000 [3:25:38<85:19:13, 63.79s/it]"
     ]
    },
    {
     "name": "stdout",
     "output_type": "stream",
     "text": [
      "[185] train loss: 0.000921 \n",
      "[185] \u001b[94mvalidate\u001b[0m loss: 0.001101\n",
      "Validation loss decreased (0.000922 --> 0.000921).  Saving model ...\n"
     ]
    },
    {
     "name": "stderr",
     "output_type": "stream",
     "text": [
      "  4%|▎         | 186/5000 [3:26:41<84:57:33, 63.53s/it]"
     ]
    },
    {
     "name": "stdout",
     "output_type": "stream",
     "text": [
      "[186] train loss: 0.000921 \n",
      "[186] \u001b[94mvalidate\u001b[0m loss: 0.001090\n",
      "Validation loss decreased (0.000921 --> 0.000921).  Saving model ...\n"
     ]
    },
    {
     "name": "stderr",
     "output_type": "stream",
     "text": [
      "  4%|▎         | 187/5000 [3:27:45<85:17:03, 63.79s/it]"
     ]
    },
    {
     "name": "stdout",
     "output_type": "stream",
     "text": [
      "[187] train loss: 0.000920 \n",
      "[187] \u001b[94mvalidate\u001b[0m loss: 0.001089\n",
      "Validation loss decreased (0.000921 --> 0.000920).  Saving model ...\n"
     ]
    },
    {
     "name": "stderr",
     "output_type": "stream",
     "text": [
      "  4%|▍         | 188/5000 [3:28:45<83:37:53, 62.57s/it]"
     ]
    },
    {
     "name": "stdout",
     "output_type": "stream",
     "text": [
      "[188] train loss: 0.000920 \n",
      "[188] \u001b[94mvalidate\u001b[0m loss: 0.001088\n",
      "Validation loss decreased (0.000920 --> 0.000920).  Saving model ...\n"
     ]
    },
    {
     "name": "stderr",
     "output_type": "stream",
     "text": [
      "  4%|▍         | 189/5000 [3:29:45<82:45:36, 61.93s/it]"
     ]
    },
    {
     "name": "stdout",
     "output_type": "stream",
     "text": [
      "[189] train loss: 0.000919 \n",
      "[189] \u001b[94mvalidate\u001b[0m loss: 0.001091\n",
      "Validation loss decreased (0.000920 --> 0.000919).  Saving model ...\n"
     ]
    },
    {
     "name": "stderr",
     "output_type": "stream",
     "text": [
      "  4%|▍         | 190/5000 [3:30:49<83:37:56, 62.59s/it]"
     ]
    },
    {
     "name": "stdout",
     "output_type": "stream",
     "text": [
      "[190] train loss: 0.000918 \n",
      "[190] \u001b[94mvalidate\u001b[0m loss: 0.001097\n",
      "Validation loss decreased (0.000919 --> 0.000918).  Saving model ...\n"
     ]
    },
    {
     "name": "stderr",
     "output_type": "stream",
     "text": [
      "  4%|▍         | 191/5000 [3:31:50<82:53:42, 62.06s/it]"
     ]
    },
    {
     "name": "stdout",
     "output_type": "stream",
     "text": [
      "[191] train loss: 0.000918 \n",
      "[191] \u001b[94mvalidate\u001b[0m loss: 0.001128\n",
      "EarlyStopping counter: 1 out of 20\n"
     ]
    },
    {
     "name": "stderr",
     "output_type": "stream",
     "text": [
      "  4%|▍         | 192/5000 [3:32:55<83:55:38, 62.84s/it]"
     ]
    },
    {
     "name": "stdout",
     "output_type": "stream",
     "text": [
      "[192] train loss: 0.000916 \n",
      "[192] \u001b[94mvalidate\u001b[0m loss: 0.001101\n",
      "Validation loss decreased (0.000918 --> 0.000916).  Saving model ...\n"
     ]
    },
    {
     "name": "stderr",
     "output_type": "stream",
     "text": [
      "  4%|▍         | 193/5000 [3:33:59<84:15:09, 63.10s/it]"
     ]
    },
    {
     "name": "stdout",
     "output_type": "stream",
     "text": [
      "[193] train loss: 0.000916 \n",
      "[193] \u001b[94mvalidate\u001b[0m loss: 0.001128\n",
      "Validation loss decreased (0.000916 --> 0.000916).  Saving model ...\n"
     ]
    },
    {
     "name": "stderr",
     "output_type": "stream",
     "text": [
      "  4%|▍         | 194/5000 [3:34:59<83:09:32, 62.29s/it]"
     ]
    },
    {
     "name": "stdout",
     "output_type": "stream",
     "text": [
      "[194] train loss: 0.000915 \n",
      "[194] \u001b[94mvalidate\u001b[0m loss: 0.001095\n",
      "Validation loss decreased (0.000916 --> 0.000915).  Saving model ...\n"
     ]
    },
    {
     "name": "stderr",
     "output_type": "stream",
     "text": [
      "  4%|▍         | 195/5000 [3:36:05<84:46:59, 63.52s/it]"
     ]
    },
    {
     "name": "stdout",
     "output_type": "stream",
     "text": [
      "[195] train loss: 0.000915 \n",
      "[195] \u001b[94mvalidate\u001b[0m loss: 0.001083\n",
      "Validation loss decreased (0.000915 --> 0.000915).  Saving model ...\n"
     ]
    },
    {
     "name": "stderr",
     "output_type": "stream",
     "text": [
      "  4%|▍         | 196/5000 [3:37:11<85:29:22, 64.06s/it]"
     ]
    },
    {
     "name": "stdout",
     "output_type": "stream",
     "text": [
      "[196] train loss: 0.000914 \n",
      "[196] \u001b[94mvalidate\u001b[0m loss: 0.001096\n",
      "Validation loss decreased (0.000915 --> 0.000914).  Saving model ...\n"
     ]
    },
    {
     "name": "stderr",
     "output_type": "stream",
     "text": [
      "  4%|▍         | 197/5000 [3:38:12<84:25:50, 63.28s/it]"
     ]
    },
    {
     "name": "stdout",
     "output_type": "stream",
     "text": [
      "[197] train loss: 0.000914 \n",
      "[197] \u001b[94mvalidate\u001b[0m loss: 0.001090\n",
      "Validation loss decreased (0.000914 --> 0.000914).  Saving model ...\n"
     ]
    },
    {
     "name": "stderr",
     "output_type": "stream",
     "text": [
      "  4%|▍         | 198/5000 [3:39:12<82:49:47, 62.10s/it]"
     ]
    },
    {
     "name": "stdout",
     "output_type": "stream",
     "text": [
      "[198] train loss: 0.000913 \n",
      "[198] \u001b[94mvalidate\u001b[0m loss: 0.001084\n",
      "Validation loss decreased (0.000914 --> 0.000913).  Saving model ...\n"
     ]
    },
    {
     "name": "stderr",
     "output_type": "stream",
     "text": [
      "  4%|▍         | 201/5000 [3:42:23<84:05:43, 63.08s/it]"
     ]
    },
    {
     "name": "stdout",
     "output_type": "stream",
     "text": [
      "[201] train loss: 0.000911 \n",
      "[201] \u001b[94mvalidate\u001b[0m loss: 0.001083\n",
      "Validation loss decreased (0.000912 --> 0.000911).  Saving model ...\n"
     ]
    },
    {
     "name": "stderr",
     "output_type": "stream",
     "text": [
      "  4%|▍         | 202/5000 [3:43:25<83:40:56, 62.79s/it]"
     ]
    },
    {
     "name": "stdout",
     "output_type": "stream",
     "text": [
      "[202] train loss: 0.000911 \n",
      "[202] \u001b[94mvalidate\u001b[0m loss: 0.001083\n",
      "Validation loss decreased (0.000911 --> 0.000911).  Saving model ...\n"
     ]
    },
    {
     "name": "stderr",
     "output_type": "stream",
     "text": [
      "  4%|▍         | 203/5000 [3:44:27<83:18:47, 62.52s/it]"
     ]
    },
    {
     "name": "stdout",
     "output_type": "stream",
     "text": [
      "[203] train loss: 0.000910 \n",
      "[203] \u001b[94mvalidate\u001b[0m loss: 0.001082\n",
      "Validation loss decreased (0.000911 --> 0.000910).  Saving model ...\n"
     ]
    },
    {
     "name": "stderr",
     "output_type": "stream",
     "text": [
      "  4%|▍         | 204/5000 [3:45:30<83:41:20, 62.82s/it]"
     ]
    },
    {
     "name": "stdout",
     "output_type": "stream",
     "text": [
      "[204] train loss: 0.000909 \n",
      "[204] \u001b[94mvalidate\u001b[0m loss: 0.001085\n",
      "Validation loss decreased (0.000910 --> 0.000909).  Saving model ...\n"
     ]
    },
    {
     "name": "stderr",
     "output_type": "stream",
     "text": [
      "  4%|▍         | 205/5000 [3:46:35<84:29:16, 63.43s/it]"
     ]
    },
    {
     "name": "stdout",
     "output_type": "stream",
     "text": [
      "[205] train loss: 0.000909 \n",
      "[205] \u001b[94mvalidate\u001b[0m loss: 0.001076\n",
      "Validation loss decreased (0.000909 --> 0.000909).  Saving model ...\n"
     ]
    },
    {
     "name": "stderr",
     "output_type": "stream",
     "text": [
      "  4%|▍         | 206/5000 [3:47:38<84:22:57, 63.37s/it]"
     ]
    },
    {
     "name": "stdout",
     "output_type": "stream",
     "text": [
      "[206] train loss: 0.000909 \n",
      "[206] \u001b[94mvalidate\u001b[0m loss: 0.001092\n",
      "EarlyStopping counter: 1 out of 20\n"
     ]
    },
    {
     "name": "stderr",
     "output_type": "stream",
     "text": [
      "  4%|▍         | 207/5000 [3:48:42<84:25:24, 63.41s/it]"
     ]
    },
    {
     "name": "stdout",
     "output_type": "stream",
     "text": [
      "[207] train loss: 0.000907 \n",
      "[207] \u001b[94mvalidate\u001b[0m loss: 0.001106\n",
      "Validation loss decreased (0.000909 --> 0.000907).  Saving model ...\n"
     ]
    },
    {
     "name": "stderr",
     "output_type": "stream",
     "text": [
      "  4%|▍         | 208/5000 [3:49:40<82:31:10, 61.99s/it]"
     ]
    },
    {
     "name": "stdout",
     "output_type": "stream",
     "text": [
      "[208] train loss: 0.000907 \n",
      "[208] \u001b[94mvalidate\u001b[0m loss: 0.001103\n",
      "Validation loss decreased (0.000907 --> 0.000907).  Saving model ...\n"
     ]
    },
    {
     "name": "stderr",
     "output_type": "stream",
     "text": [
      "  4%|▍         | 209/5000 [3:50:45<83:33:21, 62.78s/it]"
     ]
    },
    {
     "name": "stdout",
     "output_type": "stream",
     "text": [
      "[209] train loss: 0.000906 \n",
      "[209] \u001b[94mvalidate\u001b[0m loss: 0.001091\n",
      "Validation loss decreased (0.000907 --> 0.000906).  Saving model ...\n"
     ]
    },
    {
     "name": "stderr",
     "output_type": "stream",
     "text": [
      "  4%|▍         | 210/5000 [3:51:47<83:07:25, 62.47s/it]"
     ]
    },
    {
     "name": "stdout",
     "output_type": "stream",
     "text": [
      "[210] train loss: 0.000906 \n",
      "[210] \u001b[94mvalidate\u001b[0m loss: 0.001086\n",
      "Validation loss decreased (0.000906 --> 0.000906).  Saving model ...\n"
     ]
    },
    {
     "name": "stderr",
     "output_type": "stream",
     "text": [
      "  4%|▍         | 211/5000 [3:52:51<83:53:38, 63.07s/it]"
     ]
    },
    {
     "name": "stdout",
     "output_type": "stream",
     "text": [
      "[211] train loss: 0.000906 \n",
      "[211] \u001b[94mvalidate\u001b[0m loss: 0.001089\n",
      "Validation loss decreased (0.000906 --> 0.000906).  Saving model ...\n"
     ]
    },
    {
     "name": "stderr",
     "output_type": "stream",
     "text": [
      "  4%|▍         | 212/5000 [3:53:54<83:46:04, 62.98s/it]"
     ]
    },
    {
     "name": "stdout",
     "output_type": "stream",
     "text": [
      "[212] train loss: 0.000904 \n",
      "[212] \u001b[94mvalidate\u001b[0m loss: 0.001075\n",
      "Validation loss decreased (0.000906 --> 0.000904).  Saving model ...\n"
     ]
    },
    {
     "name": "stderr",
     "output_type": "stream",
     "text": [
      "  4%|▍         | 213/5000 [3:54:55<82:55:19, 62.36s/it]"
     ]
    },
    {
     "name": "stdout",
     "output_type": "stream",
     "text": [
      "[213] train loss: 0.000904 \n",
      "[213] \u001b[94mvalidate\u001b[0m loss: 0.001089\n",
      "Validation loss decreased (0.000904 --> 0.000904).  Saving model ...\n"
     ]
    },
    {
     "name": "stderr",
     "output_type": "stream",
     "text": [
      "  4%|▍         | 214/5000 [3:55:57<83:00:43, 62.44s/it]"
     ]
    },
    {
     "name": "stdout",
     "output_type": "stream",
     "text": [
      "[214] train loss: 0.000904 \n",
      "[214] \u001b[94mvalidate\u001b[0m loss: 0.001081\n",
      "Validation loss decreased (0.000904 --> 0.000904).  Saving model ...\n"
     ]
    },
    {
     "name": "stderr",
     "output_type": "stream",
     "text": [
      "  4%|▍         | 215/5000 [3:57:04<84:33:47, 63.62s/it]"
     ]
    },
    {
     "name": "stdout",
     "output_type": "stream",
     "text": [
      "[215] train loss: 0.000904 \n",
      "[215] \u001b[94mvalidate\u001b[0m loss: 0.001083\n",
      "Validation loss decreased (0.000904 --> 0.000904).  Saving model ...\n"
     ]
    },
    {
     "name": "stderr",
     "output_type": "stream",
     "text": [
      "  4%|▍         | 216/5000 [3:58:04<83:01:59, 62.48s/it]"
     ]
    },
    {
     "name": "stdout",
     "output_type": "stream",
     "text": [
      "[216] train loss: 0.000903 \n",
      "[216] \u001b[94mvalidate\u001b[0m loss: 0.001087\n",
      "Validation loss decreased (0.000904 --> 0.000903).  Saving model ...\n"
     ]
    },
    {
     "name": "stderr",
     "output_type": "stream",
     "text": [
      "  4%|▍         | 217/5000 [3:59:07<83:27:39, 62.82s/it]"
     ]
    },
    {
     "name": "stdout",
     "output_type": "stream",
     "text": [
      "[217] train loss: 0.000902 \n",
      "[217] \u001b[94mvalidate\u001b[0m loss: 0.001095\n",
      "Validation loss decreased (0.000903 --> 0.000902).  Saving model ...\n"
     ]
    },
    {
     "name": "stderr",
     "output_type": "stream",
     "text": [
      "  4%|▍         | 219/5000 [4:01:12<83:18:18, 62.73s/it]"
     ]
    },
    {
     "name": "stdout",
     "output_type": "stream",
     "text": [
      "[219] train loss: 0.000901 \n",
      "[219] \u001b[94mvalidate\u001b[0m loss: 0.001072\n",
      "Validation loss decreased (0.000901 --> 0.000901).  Saving model ...\n"
     ]
    },
    {
     "name": "stderr",
     "output_type": "stream",
     "text": [
      "  4%|▍         | 220/5000 [4:02:11<81:41:26, 61.52s/it]"
     ]
    },
    {
     "name": "stdout",
     "output_type": "stream",
     "text": [
      "[220] train loss: 0.000901 \n",
      "[220] \u001b[94mvalidate\u001b[0m loss: 0.001082\n",
      "Validation loss decreased (0.000901 --> 0.000901).  Saving model ...\n"
     ]
    },
    {
     "name": "stderr",
     "output_type": "stream",
     "text": [
      "  4%|▍         | 221/5000 [4:03:13<81:48:12, 61.62s/it]"
     ]
    },
    {
     "name": "stdout",
     "output_type": "stream",
     "text": [
      "[221] train loss: 0.000900 \n",
      "[221] \u001b[94mvalidate\u001b[0m loss: 0.001080\n",
      "Validation loss decreased (0.000901 --> 0.000900).  Saving model ...\n"
     ]
    },
    {
     "name": "stderr",
     "output_type": "stream",
     "text": [
      "  4%|▍         | 222/5000 [4:04:13<81:09:13, 61.15s/it]"
     ]
    },
    {
     "name": "stdout",
     "output_type": "stream",
     "text": [
      "[222] train loss: 0.000900 \n",
      "[222] \u001b[94mvalidate\u001b[0m loss: 0.001070\n",
      "Validation loss decreased (0.000900 --> 0.000900).  Saving model ...\n"
     ]
    },
    {
     "name": "stderr",
     "output_type": "stream",
     "text": [
      "  4%|▍         | 223/5000 [4:05:17<82:23:38, 62.09s/it]"
     ]
    },
    {
     "name": "stdout",
     "output_type": "stream",
     "text": [
      "[223] train loss: 0.000899 \n",
      "[223] \u001b[94mvalidate\u001b[0m loss: 0.001066\n",
      "Validation loss decreased (0.000900 --> 0.000899).  Saving model ...\n"
     ]
    },
    {
     "name": "stderr",
     "output_type": "stream",
     "text": [
      "  4%|▍         | 224/5000 [4:06:18<81:38:52, 61.54s/it]"
     ]
    },
    {
     "name": "stdout",
     "output_type": "stream",
     "text": [
      "[224] train loss: 0.000898 \n",
      "[224] \u001b[94mvalidate\u001b[0m loss: 0.001074\n",
      "Validation loss decreased (0.000899 --> 0.000898).  Saving model ...\n"
     ]
    },
    {
     "name": "stderr",
     "output_type": "stream",
     "text": [
      "  4%|▍         | 225/5000 [4:07:20<81:52:55, 61.73s/it]"
     ]
    },
    {
     "name": "stdout",
     "output_type": "stream",
     "text": [
      "[225] train loss: 0.000899 \n",
      "[225] \u001b[94mvalidate\u001b[0m loss: 0.001073\n",
      "EarlyStopping counter: 1 out of 20\n"
     ]
    },
    {
     "name": "stderr",
     "output_type": "stream",
     "text": [
      "  5%|▍         | 226/5000 [4:08:20<81:28:00, 61.43s/it]"
     ]
    },
    {
     "name": "stdout",
     "output_type": "stream",
     "text": [
      "[226] train loss: 0.000898 \n",
      "[226] \u001b[94mvalidate\u001b[0m loss: 0.001073\n",
      "Validation loss decreased (0.000898 --> 0.000898).  Saving model ...\n"
     ]
    },
    {
     "name": "stderr",
     "output_type": "stream",
     "text": [
      "  5%|▍         | 227/5000 [4:09:22<81:36:51, 61.56s/it]"
     ]
    },
    {
     "name": "stdout",
     "output_type": "stream",
     "text": [
      "[227] train loss: 0.000897 \n",
      "[227] \u001b[94mvalidate\u001b[0m loss: 0.001069\n",
      "Validation loss decreased (0.000898 --> 0.000897).  Saving model ...\n"
     ]
    },
    {
     "name": "stderr",
     "output_type": "stream",
     "text": [
      "  5%|▍         | 228/5000 [4:10:23<81:11:22, 61.25s/it]"
     ]
    },
    {
     "name": "stdout",
     "output_type": "stream",
     "text": [
      "[228] train loss: 0.000896 \n",
      "[228] \u001b[94mvalidate\u001b[0m loss: 0.001075\n",
      "Validation loss decreased (0.000897 --> 0.000896).  Saving model ...\n"
     ]
    },
    {
     "name": "stderr",
     "output_type": "stream",
     "text": [
      "  5%|▍         | 229/5000 [4:11:23<80:32:31, 60.77s/it]"
     ]
    },
    {
     "name": "stdout",
     "output_type": "stream",
     "text": [
      "[229] train loss: 0.000896 \n",
      "[229] \u001b[94mvalidate\u001b[0m loss: 0.001072\n",
      "Validation loss decreased (0.000896 --> 0.000896).  Saving model ...\n"
     ]
    },
    {
     "name": "stderr",
     "output_type": "stream",
     "text": [
      "  5%|▍         | 230/5000 [4:12:24<80:51:36, 61.03s/it]"
     ]
    },
    {
     "name": "stdout",
     "output_type": "stream",
     "text": [
      "[230] train loss: 0.000896 \n",
      "[230] \u001b[94mvalidate\u001b[0m loss: 0.001061\n",
      "Validation loss decreased (0.000896 --> 0.000896).  Saving model ...\n"
     ]
    },
    {
     "name": "stderr",
     "output_type": "stream",
     "text": [
      "  5%|▍         | 231/5000 [4:13:24<80:21:11, 60.66s/it]"
     ]
    },
    {
     "name": "stdout",
     "output_type": "stream",
     "text": [
      "[231] train loss: 0.000895 \n",
      "[231] \u001b[94mvalidate\u001b[0m loss: 0.001092\n",
      "Validation loss decreased (0.000896 --> 0.000895).  Saving model ...\n"
     ]
    },
    {
     "name": "stderr",
     "output_type": "stream",
     "text": [
      "  5%|▍         | 232/5000 [4:14:26<80:41:33, 60.93s/it]"
     ]
    },
    {
     "name": "stdout",
     "output_type": "stream",
     "text": [
      "[232] train loss: 0.000895 \n",
      "[232] \u001b[94mvalidate\u001b[0m loss: 0.001069\n",
      "Validation loss decreased (0.000895 --> 0.000895).  Saving model ...\n"
     ]
    },
    {
     "name": "stderr",
     "output_type": "stream",
     "text": [
      "  5%|▍         | 233/5000 [4:15:25<80:06:16, 60.49s/it]"
     ]
    },
    {
     "name": "stdout",
     "output_type": "stream",
     "text": [
      "[233] train loss: 0.000894 \n",
      "[233] \u001b[94mvalidate\u001b[0m loss: 0.001064\n",
      "Validation loss decreased (0.000895 --> 0.000894).  Saving model ...\n"
     ]
    },
    {
     "name": "stderr",
     "output_type": "stream",
     "text": [
      "  5%|▍         | 234/5000 [4:16:25<79:52:20, 60.33s/it]"
     ]
    },
    {
     "name": "stdout",
     "output_type": "stream",
     "text": [
      "[234] train loss: 0.000893 \n",
      "[234] \u001b[94mvalidate\u001b[0m loss: 0.001068\n",
      "Validation loss decreased (0.000894 --> 0.000893).  Saving model ...\n"
     ]
    },
    {
     "name": "stderr",
     "output_type": "stream",
     "text": [
      "  5%|▍         | 237/5000 [4:19:34<81:49:16, 61.84s/it]"
     ]
    },
    {
     "name": "stdout",
     "output_type": "stream",
     "text": [
      "[237] train loss: 0.000892 \n",
      "[237] \u001b[94mvalidate\u001b[0m loss: 0.001061\n",
      "EarlyStopping counter: 1 out of 20\n"
     ]
    },
    {
     "name": "stderr",
     "output_type": "stream",
     "text": [
      "  5%|▍         | 238/5000 [4:20:35<81:32:15, 61.64s/it]"
     ]
    },
    {
     "name": "stdout",
     "output_type": "stream",
     "text": [
      "[238] train loss: 0.000892 \n",
      "[238] \u001b[94mvalidate\u001b[0m loss: 0.001062\n",
      "Validation loss decreased (0.000892 --> 0.000892).  Saving model ...\n"
     ]
    },
    {
     "name": "stderr",
     "output_type": "stream",
     "text": [
      "  5%|▍         | 239/5000 [4:21:41<83:10:56, 62.90s/it]"
     ]
    },
    {
     "name": "stdout",
     "output_type": "stream",
     "text": [
      "[239] train loss: 0.000891 \n",
      "[239] \u001b[94mvalidate\u001b[0m loss: 0.001058\n",
      "Validation loss decreased (0.000892 --> 0.000891).  Saving model ...\n"
     ]
    },
    {
     "name": "stderr",
     "output_type": "stream",
     "text": [
      "  5%|▍         | 240/5000 [4:22:43<82:49:06, 62.64s/it]"
     ]
    },
    {
     "name": "stdout",
     "output_type": "stream",
     "text": [
      "[240] train loss: 0.000891 \n",
      "[240] \u001b[94mvalidate\u001b[0m loss: 0.001059\n",
      "Validation loss decreased (0.000891 --> 0.000891).  Saving model ...\n"
     ]
    },
    {
     "name": "stderr",
     "output_type": "stream",
     "text": [
      "  5%|▍         | 241/5000 [4:23:44<82:15:11, 62.22s/it]"
     ]
    },
    {
     "name": "stdout",
     "output_type": "stream",
     "text": [
      "[241] train loss: 0.000890 \n",
      "[241] \u001b[94mvalidate\u001b[0m loss: 0.001067\n",
      "Validation loss decreased (0.000891 --> 0.000890).  Saving model ...\n"
     ]
    },
    {
     "name": "stderr",
     "output_type": "stream",
     "text": [
      "  5%|▍         | 242/5000 [4:24:45<81:34:28, 61.72s/it]"
     ]
    },
    {
     "name": "stdout",
     "output_type": "stream",
     "text": [
      "[242] train loss: 0.000889 \n",
      "[242] \u001b[94mvalidate\u001b[0m loss: 0.001097\n",
      "Validation loss decreased (0.000890 --> 0.000889).  Saving model ...\n"
     ]
    },
    {
     "name": "stderr",
     "output_type": "stream",
     "text": [
      "  5%|▍         | 245/5000 [4:27:58<83:23:59, 63.14s/it]"
     ]
    },
    {
     "name": "stdout",
     "output_type": "stream",
     "text": [
      "[245] train loss: 0.000888 \n",
      "[245] \u001b[94mvalidate\u001b[0m loss: 0.001052\n",
      "Validation loss decreased (0.000889 --> 0.000888).  Saving model ...\n"
     ]
    },
    {
     "name": "stderr",
     "output_type": "stream",
     "text": [
      "  5%|▍         | 246/5000 [4:29:01<83:20:27, 63.11s/it]"
     ]
    },
    {
     "name": "stdout",
     "output_type": "stream",
     "text": [
      "[246] train loss: 0.000888 \n",
      "[246] \u001b[94mvalidate\u001b[0m loss: 0.001066\n",
      "Validation loss decreased (0.000888 --> 0.000888).  Saving model ...\n"
     ]
    },
    {
     "name": "stderr",
     "output_type": "stream",
     "text": [
      "  5%|▍         | 247/5000 [4:30:02<82:38:41, 62.60s/it]"
     ]
    },
    {
     "name": "stdout",
     "output_type": "stream",
     "text": [
      "[247] train loss: 0.000887 \n",
      "[247] \u001b[94mvalidate\u001b[0m loss: 0.001070\n",
      "Validation loss decreased (0.000888 --> 0.000887).  Saving model ...\n"
     ]
    },
    {
     "name": "stderr",
     "output_type": "stream",
     "text": [
      "  5%|▍         | 248/5000 [4:31:07<83:23:58, 63.18s/it]"
     ]
    },
    {
     "name": "stdout",
     "output_type": "stream",
     "text": [
      "[248] train loss: 0.000887 \n",
      "[248] \u001b[94mvalidate\u001b[0m loss: 0.001076\n",
      "Validation loss decreased (0.000887 --> 0.000887).  Saving model ...\n"
     ]
    },
    {
     "name": "stderr",
     "output_type": "stream",
     "text": [
      "  5%|▍         | 249/5000 [4:32:09<82:51:29, 62.78s/it]"
     ]
    },
    {
     "name": "stdout",
     "output_type": "stream",
     "text": [
      "[249] train loss: 0.000887 \n",
      "[249] \u001b[94mvalidate\u001b[0m loss: 0.001064\n",
      "Validation loss decreased (0.000887 --> 0.000887).  Saving model ...\n"
     ]
    },
    {
     "name": "stderr",
     "output_type": "stream",
     "text": [
      "  5%|▌         | 250/5000 [4:33:12<83:13:13, 63.07s/it]"
     ]
    },
    {
     "name": "stdout",
     "output_type": "stream",
     "text": [
      "[250] train loss: 0.000886 \n",
      "[250] \u001b[94mvalidate\u001b[0m loss: 0.001057\n",
      "Validation loss decreased (0.000887 --> 0.000886).  Saving model ...\n"
     ]
    },
    {
     "name": "stderr",
     "output_type": "stream",
     "text": [
      "  5%|▌         | 251/5000 [4:34:13<82:23:31, 62.46s/it]"
     ]
    },
    {
     "name": "stdout",
     "output_type": "stream",
     "text": [
      "[251] train loss: 0.000885 \n",
      "[251] \u001b[94mvalidate\u001b[0m loss: 0.001068\n",
      "Validation loss decreased (0.000886 --> 0.000885).  Saving model ...\n"
     ]
    },
    {
     "name": "stderr",
     "output_type": "stream",
     "text": [
      "  5%|▌         | 252/5000 [4:35:15<81:56:55, 62.13s/it]"
     ]
    },
    {
     "name": "stdout",
     "output_type": "stream",
     "text": [
      "[252] train loss: 0.000885 \n",
      "[252] \u001b[94mvalidate\u001b[0m loss: 0.001076\n",
      "Validation loss decreased (0.000885 --> 0.000885).  Saving model ...\n"
     ]
    },
    {
     "name": "stderr",
     "output_type": "stream",
     "text": [
      "  5%|▌         | 253/5000 [4:36:16<81:48:02, 62.04s/it]"
     ]
    },
    {
     "name": "stdout",
     "output_type": "stream",
     "text": [
      "[253] train loss: 0.000885 \n",
      "[253] \u001b[94mvalidate\u001b[0m loss: 0.001049\n",
      "Validation loss decreased (0.000885 --> 0.000885).  Saving model ...\n"
     ]
    },
    {
     "name": "stderr",
     "output_type": "stream",
     "text": [
      "  5%|▌         | 254/5000 [4:37:17<81:16:37, 61.65s/it]"
     ]
    },
    {
     "name": "stdout",
     "output_type": "stream",
     "text": [
      "[254] train loss: 0.000884 \n",
      "[254] \u001b[94mvalidate\u001b[0m loss: 0.001053\n",
      "Validation loss decreased (0.000885 --> 0.000884).  Saving model ...\n"
     ]
    },
    {
     "name": "stderr",
     "output_type": "stream",
     "text": [
      "  5%|▌         | 255/5000 [4:38:20<81:31:43, 61.86s/it]"
     ]
    },
    {
     "name": "stdout",
     "output_type": "stream",
     "text": [
      "[255] train loss: 0.000884 \n",
      "[255] \u001b[94mvalidate\u001b[0m loss: 0.001048\n",
      "Validation loss decreased (0.000884 --> 0.000884).  Saving model ...\n"
     ]
    },
    {
     "name": "stderr",
     "output_type": "stream",
     "text": [
      "  5%|▌         | 256/5000 [4:39:22<81:49:36, 62.09s/it]"
     ]
    },
    {
     "name": "stdout",
     "output_type": "stream",
     "text": [
      "[256] train loss: 0.000883 \n",
      "[256] \u001b[94mvalidate\u001b[0m loss: 0.001053\n",
      "Validation loss decreased (0.000884 --> 0.000883).  Saving model ...\n"
     ]
    },
    {
     "name": "stderr",
     "output_type": "stream",
     "text": [
      "  5%|▌         | 257/5000 [4:40:25<81:53:23, 62.16s/it]"
     ]
    },
    {
     "name": "stdout",
     "output_type": "stream",
     "text": [
      "[257] train loss: 0.000883 \n",
      "[257] \u001b[94mvalidate\u001b[0m loss: 0.001071\n",
      "Validation loss decreased (0.000883 --> 0.000883).  Saving model ...\n"
     ]
    },
    {
     "name": "stderr",
     "output_type": "stream",
     "text": [
      "  5%|▌         | 258/5000 [4:41:25<81:13:15, 61.66s/it]"
     ]
    },
    {
     "name": "stdout",
     "output_type": "stream",
     "text": [
      "[258] train loss: 0.000883 \n",
      "[258] \u001b[94mvalidate\u001b[0m loss: 0.001056\n",
      "EarlyStopping counter: 1 out of 20\n"
     ]
    },
    {
     "name": "stderr",
     "output_type": "stream",
     "text": [
      "  5%|▌         | 259/5000 [4:42:26<81:06:02, 61.58s/it]"
     ]
    },
    {
     "name": "stdout",
     "output_type": "stream",
     "text": [
      "[259] train loss: 0.000882 \n",
      "[259] \u001b[94mvalidate\u001b[0m loss: 0.001067\n",
      "Validation loss decreased (0.000883 --> 0.000882).  Saving model ...\n"
     ]
    },
    {
     "name": "stderr",
     "output_type": "stream",
     "text": [
      "  5%|▌         | 260/5000 [4:43:28<80:57:28, 61.49s/it]"
     ]
    },
    {
     "name": "stdout",
     "output_type": "stream",
     "text": [
      "[260] train loss: 0.000882 \n",
      "[260] \u001b[94mvalidate\u001b[0m loss: 0.001057\n",
      "Validation loss decreased (0.000882 --> 0.000882).  Saving model ...\n"
     ]
    },
    {
     "name": "stderr",
     "output_type": "stream",
     "text": [
      "  5%|▌         | 263/5000 [4:46:35<81:25:13, 61.88s/it]"
     ]
    },
    {
     "name": "stdout",
     "output_type": "stream",
     "text": [
      "[263] train loss: 0.000880 \n",
      "[263] \u001b[94mvalidate\u001b[0m loss: 0.001064\n",
      "Validation loss decreased (0.000880 --> 0.000880).  Saving model ...\n"
     ]
    },
    {
     "name": "stderr",
     "output_type": "stream",
     "text": [
      "  5%|▌         | 264/5000 [4:47:41<82:41:46, 62.86s/it]"
     ]
    },
    {
     "name": "stdout",
     "output_type": "stream",
     "text": [
      "[264] train loss: 0.000879 \n",
      "[264] \u001b[94mvalidate\u001b[0m loss: 0.001058\n",
      "Validation loss decreased (0.000880 --> 0.000879).  Saving model ...\n"
     ]
    },
    {
     "name": "stderr",
     "output_type": "stream",
     "text": [
      "  5%|▌         | 265/5000 [4:48:48<84:16:43, 64.08s/it]"
     ]
    },
    {
     "name": "stdout",
     "output_type": "stream",
     "text": [
      "[265] train loss: 0.000879 \n",
      "[265] \u001b[94mvalidate\u001b[0m loss: 0.001056\n",
      "Validation loss decreased (0.000879 --> 0.000879).  Saving model ...\n"
     ]
    },
    {
     "name": "stderr",
     "output_type": "stream",
     "text": [
      "  5%|▌         | 266/5000 [4:49:49<83:12:31, 63.28s/it]"
     ]
    },
    {
     "name": "stdout",
     "output_type": "stream",
     "text": [
      "[266] train loss: 0.000878 \n",
      "[266] \u001b[94mvalidate\u001b[0m loss: 0.001045\n",
      "Validation loss decreased (0.000879 --> 0.000878).  Saving model ...\n"
     ]
    },
    {
     "name": "stderr",
     "output_type": "stream",
     "text": [
      "  5%|▌         | 267/5000 [4:50:50<82:20:49, 62.63s/it]"
     ]
    },
    {
     "name": "stdout",
     "output_type": "stream",
     "text": [
      "[267] train loss: 0.000878 \n",
      "[267] \u001b[94mvalidate\u001b[0m loss: 0.001044\n",
      "Validation loss decreased (0.000878 --> 0.000878).  Saving model ...\n"
     ]
    },
    {
     "name": "stderr",
     "output_type": "stream",
     "text": [
      "  5%|▌         | 268/5000 [4:51:56<83:48:37, 63.76s/it]"
     ]
    },
    {
     "name": "stdout",
     "output_type": "stream",
     "text": [
      "[268] train loss: 0.000878 \n",
      "[268] \u001b[94mvalidate\u001b[0m loss: 0.001046\n",
      "Validation loss decreased (0.000878 --> 0.000878).  Saving model ...\n"
     ]
    },
    {
     "name": "stderr",
     "output_type": "stream",
     "text": [
      "  5%|▌         | 269/5000 [4:53:00<83:33:42, 63.59s/it]"
     ]
    },
    {
     "name": "stdout",
     "output_type": "stream",
     "text": [
      "[269] train loss: 0.000877 \n",
      "[269] \u001b[94mvalidate\u001b[0m loss: 0.001046\n",
      "Validation loss decreased (0.000878 --> 0.000877).  Saving model ...\n"
     ]
    },
    {
     "name": "stderr",
     "output_type": "stream",
     "text": [
      "  5%|▌         | 270/5000 [4:54:00<82:15:18, 62.60s/it]"
     ]
    },
    {
     "name": "stdout",
     "output_type": "stream",
     "text": [
      "[270] train loss: 0.000877 \n",
      "[270] \u001b[94mvalidate\u001b[0m loss: 0.001042\n",
      "Validation loss decreased (0.000877 --> 0.000877).  Saving model ...\n"
     ]
    },
    {
     "name": "stderr",
     "output_type": "stream",
     "text": [
      "  5%|▌         | 271/5000 [4:55:03<82:34:41, 62.86s/it]"
     ]
    },
    {
     "name": "stdout",
     "output_type": "stream",
     "text": [
      "[271] train loss: 0.000877 \n",
      "[271] \u001b[94mvalidate\u001b[0m loss: 0.001049\n",
      "Validation loss decreased (0.000877 --> 0.000877).  Saving model ...\n"
     ]
    },
    {
     "name": "stderr",
     "output_type": "stream",
     "text": [
      "  5%|▌         | 272/5000 [4:56:04<81:34:04, 62.11s/it]"
     ]
    },
    {
     "name": "stdout",
     "output_type": "stream",
     "text": [
      "[272] train loss: 0.000876 \n",
      "[272] \u001b[94mvalidate\u001b[0m loss: 0.001044\n",
      "Validation loss decreased (0.000877 --> 0.000876).  Saving model ...\n"
     ]
    },
    {
     "name": "stderr",
     "output_type": "stream",
     "text": [
      "  5%|▌         | 273/5000 [4:57:07<82:06:24, 62.53s/it]"
     ]
    },
    {
     "name": "stdout",
     "output_type": "stream",
     "text": [
      "[273] train loss: 0.000876 \n",
      "[273] \u001b[94mvalidate\u001b[0m loss: 0.001045\n",
      "Validation loss decreased (0.000876 --> 0.000876).  Saving model ...\n"
     ]
    },
    {
     "name": "stderr",
     "output_type": "stream",
     "text": [
      "  5%|▌         | 274/5000 [4:58:12<82:45:33, 63.04s/it]"
     ]
    },
    {
     "name": "stdout",
     "output_type": "stream",
     "text": [
      "[274] train loss: 0.000876 \n",
      "[274] \u001b[94mvalidate\u001b[0m loss: 0.001056\n",
      "Validation loss decreased (0.000876 --> 0.000876).  Saving model ...\n"
     ]
    },
    {
     "name": "stderr",
     "output_type": "stream",
     "text": [
      "  6%|▌         | 275/5000 [4:59:10<80:55:06, 61.65s/it]"
     ]
    },
    {
     "name": "stdout",
     "output_type": "stream",
     "text": [
      "[275] train loss: 0.000875 \n",
      "[275] \u001b[94mvalidate\u001b[0m loss: 0.001050\n",
      "Validation loss decreased (0.000876 --> 0.000875).  Saving model ...\n"
     ]
    },
    {
     "name": "stderr",
     "output_type": "stream",
     "text": [
      "  6%|▌         | 276/5000 [5:00:10<80:10:40, 61.10s/it]"
     ]
    },
    {
     "name": "stdout",
     "output_type": "stream",
     "text": [
      "[276] train loss: 0.000875 \n",
      "[276] \u001b[94mvalidate\u001b[0m loss: 0.001065\n",
      "Validation loss decreased (0.000875 --> 0.000875).  Saving model ...\n"
     ]
    },
    {
     "name": "stderr",
     "output_type": "stream",
     "text": [
      "  6%|▌         | 277/5000 [5:01:13<80:49:34, 61.61s/it]"
     ]
    },
    {
     "name": "stdout",
     "output_type": "stream",
     "text": [
      "[277] train loss: 0.000874 \n",
      "[277] \u001b[94mvalidate\u001b[0m loss: 0.001064\n",
      "Validation loss decreased (0.000875 --> 0.000874).  Saving model ...\n"
     ]
    },
    {
     "name": "stderr",
     "output_type": "stream",
     "text": [
      "  6%|▌         | 278/5000 [5:02:15<81:13:30, 61.93s/it]"
     ]
    },
    {
     "name": "stdout",
     "output_type": "stream",
     "text": [
      "[278] train loss: 0.000874 \n",
      "[278] \u001b[94mvalidate\u001b[0m loss: 0.001066\n",
      "Validation loss decreased (0.000874 --> 0.000874).  Saving model ...\n"
     ]
    },
    {
     "name": "stderr",
     "output_type": "stream",
     "text": [
      "  6%|▌         | 281/5000 [5:05:24<82:23:48, 62.86s/it]"
     ]
    },
    {
     "name": "stdout",
     "output_type": "stream",
     "text": [
      "[281] train loss: 0.000872 \n",
      "[281] \u001b[94mvalidate\u001b[0m loss: 0.001042\n",
      "Validation loss decreased (0.000873 --> 0.000872).  Saving model ...\n"
     ]
    },
    {
     "name": "stderr",
     "output_type": "stream",
     "text": [
      "  6%|▌         | 282/5000 [5:06:27<82:24:56, 62.89s/it]"
     ]
    },
    {
     "name": "stdout",
     "output_type": "stream",
     "text": [
      "[282] train loss: 0.000872 \n",
      "[282] \u001b[94mvalidate\u001b[0m loss: 0.001072\n",
      "Validation loss decreased (0.000872 --> 0.000872).  Saving model ...\n"
     ]
    },
    {
     "name": "stderr",
     "output_type": "stream",
     "text": [
      "  6%|▌         | 283/5000 [5:07:28<81:40:33, 62.33s/it]"
     ]
    },
    {
     "name": "stdout",
     "output_type": "stream",
     "text": [
      "[283] train loss: 0.000872 \n",
      "[283] \u001b[94mvalidate\u001b[0m loss: 0.001048\n",
      "Validation loss decreased (0.000872 --> 0.000872).  Saving model ...\n"
     ]
    },
    {
     "name": "stderr",
     "output_type": "stream",
     "text": [
      "  6%|▌         | 284/5000 [5:08:28<80:44:34, 61.64s/it]"
     ]
    },
    {
     "name": "stdout",
     "output_type": "stream",
     "text": [
      "[284] train loss: 0.000871 \n",
      "[284] \u001b[94mvalidate\u001b[0m loss: 0.001055\n",
      "Validation loss decreased (0.000872 --> 0.000871).  Saving model ...\n"
     ]
    },
    {
     "name": "stderr",
     "output_type": "stream",
     "text": [
      "  6%|▌         | 285/5000 [5:09:30<80:44:28, 61.65s/it]"
     ]
    },
    {
     "name": "stdout",
     "output_type": "stream",
     "text": [
      "[285] train loss: 0.000871 \n",
      "[285] \u001b[94mvalidate\u001b[0m loss: 0.001050\n",
      "Validation loss decreased (0.000871 --> 0.000871).  Saving model ...\n"
     ]
    },
    {
     "name": "stderr",
     "output_type": "stream",
     "text": [
      "  6%|▌         | 286/5000 [5:10:32<80:48:02, 61.71s/it]"
     ]
    },
    {
     "name": "stdout",
     "output_type": "stream",
     "text": [
      "[286] train loss: 0.000870 \n",
      "[286] \u001b[94mvalidate\u001b[0m loss: 0.001048\n",
      "Validation loss decreased (0.000871 --> 0.000870).  Saving model ...\n"
     ]
    },
    {
     "name": "stderr",
     "output_type": "stream",
     "text": [
      "  6%|▌         | 287/5000 [5:11:33<80:34:47, 61.55s/it]"
     ]
    },
    {
     "name": "stdout",
     "output_type": "stream",
     "text": [
      "[287] train loss: 0.000870 \n",
      "[287] \u001b[94mvalidate\u001b[0m loss: 0.001042\n",
      "Validation loss decreased (0.000870 --> 0.000870).  Saving model ...\n"
     ]
    },
    {
     "name": "stderr",
     "output_type": "stream",
     "text": [
      "  6%|▌         | 288/5000 [5:12:39<82:19:45, 62.90s/it]"
     ]
    },
    {
     "name": "stdout",
     "output_type": "stream",
     "text": [
      "[288] train loss: 0.000870 \n",
      "[288] \u001b[94mvalidate\u001b[0m loss: 0.001037\n",
      "Validation loss decreased (0.000870 --> 0.000870).  Saving model ...\n"
     ]
    },
    {
     "name": "stderr",
     "output_type": "stream",
     "text": [
      "  6%|▌         | 289/5000 [5:13:44<83:03:57, 63.48s/it]"
     ]
    },
    {
     "name": "stdout",
     "output_type": "stream",
     "text": [
      "[289] train loss: 0.000869 \n",
      "[289] \u001b[94mvalidate\u001b[0m loss: 0.001047\n",
      "Validation loss decreased (0.000870 --> 0.000869).  Saving model ...\n"
     ]
    },
    {
     "name": "stderr",
     "output_type": "stream",
     "text": [
      "  6%|▌         | 290/5000 [5:14:44<81:29:10, 62.28s/it]"
     ]
    },
    {
     "name": "stdout",
     "output_type": "stream",
     "text": [
      "[290] train loss: 0.000869 \n",
      "[290] \u001b[94mvalidate\u001b[0m loss: 0.001050\n",
      "Validation loss decreased (0.000869 --> 0.000869).  Saving model ...\n"
     ]
    },
    {
     "name": "stderr",
     "output_type": "stream",
     "text": [
      "  6%|▌         | 291/5000 [5:15:48<82:08:51, 62.80s/it]"
     ]
    },
    {
     "name": "stdout",
     "output_type": "stream",
     "text": [
      "[291] train loss: 0.000868 \n",
      "[291] \u001b[94mvalidate\u001b[0m loss: 0.001030\n",
      "Validation loss decreased (0.000869 --> 0.000868).  Saving model ...\n"
     ]
    },
    {
     "name": "stderr",
     "output_type": "stream",
     "text": [
      "  6%|▌         | 292/5000 [5:16:48<81:12:34, 62.10s/it]"
     ]
    },
    {
     "name": "stdout",
     "output_type": "stream",
     "text": [
      "[292] train loss: 0.000868 \n",
      "[292] \u001b[94mvalidate\u001b[0m loss: 0.001038\n",
      "Validation loss decreased (0.000868 --> 0.000868).  Saving model ...\n"
     ]
    },
    {
     "name": "stderr",
     "output_type": "stream",
     "text": [
      "  6%|▌         | 293/5000 [5:17:50<81:01:53, 61.97s/it]"
     ]
    },
    {
     "name": "stdout",
     "output_type": "stream",
     "text": [
      "[293] train loss: 0.000867 \n",
      "[293] \u001b[94mvalidate\u001b[0m loss: 0.001046\n",
      "Validation loss decreased (0.000868 --> 0.000867).  Saving model ...\n"
     ]
    },
    {
     "name": "stderr",
     "output_type": "stream",
     "text": [
      "  6%|▌         | 294/5000 [5:18:51<80:50:14, 61.84s/it]"
     ]
    },
    {
     "name": "stdout",
     "output_type": "stream",
     "text": [
      "[294] train loss: 0.000867 \n",
      "[294] \u001b[94mvalidate\u001b[0m loss: 0.001041\n",
      "Validation loss decreased (0.000867 --> 0.000867).  Saving model ...\n"
     ]
    },
    {
     "name": "stderr",
     "output_type": "stream",
     "text": [
      "  6%|▌         | 295/5000 [5:19:54<81:03:38, 62.02s/it]"
     ]
    },
    {
     "name": "stdout",
     "output_type": "stream",
     "text": [
      "[295] train loss: 0.000867 \n",
      "[295] \u001b[94mvalidate\u001b[0m loss: 0.001050\n",
      "Validation loss decreased (0.000867 --> 0.000867).  Saving model ...\n"
     ]
    },
    {
     "name": "stderr",
     "output_type": "stream",
     "text": [
      "  6%|▌         | 296/5000 [5:20:59<82:32:36, 63.17s/it]"
     ]
    },
    {
     "name": "stdout",
     "output_type": "stream",
     "text": [
      "[296] train loss: 0.000866 \n",
      "[296] \u001b[94mvalidate\u001b[0m loss: 0.001035\n",
      "Validation loss decreased (0.000867 --> 0.000866).  Saving model ...\n"
     ]
    },
    {
     "name": "stderr",
     "output_type": "stream",
     "text": [
      "  6%|▌         | 298/5000 [5:23:11<84:00:24, 64.32s/it]"
     ]
    },
    {
     "name": "stdout",
     "output_type": "stream",
     "text": [
      "[298] train loss: 0.000865 \n",
      "[298] \u001b[94mvalidate\u001b[0m loss: 0.001028\n",
      "Validation loss decreased (0.000866 --> 0.000865).  Saving model ...\n"
     ]
    },
    {
     "name": "stderr",
     "output_type": "stream",
     "text": [
      "  6%|▌         | 299/5000 [5:24:12<82:51:06, 63.45s/it]"
     ]
    },
    {
     "name": "stdout",
     "output_type": "stream",
     "text": [
      "[299] train loss: 0.000865 \n",
      "[299] \u001b[94mvalidate\u001b[0m loss: 0.001049\n",
      "Validation loss decreased (0.000865 --> 0.000865).  Saving model ...\n"
     ]
    },
    {
     "name": "stderr",
     "output_type": "stream",
     "text": [
      "  6%|▌         | 300/5000 [5:25:16<82:44:44, 63.38s/it]"
     ]
    },
    {
     "name": "stdout",
     "output_type": "stream",
     "text": [
      "[300] train loss: 0.000865 \n",
      "[300] \u001b[94mvalidate\u001b[0m loss: 0.001038\n",
      "Validation loss decreased (0.000865 --> 0.000865).  Saving model ...\n"
     ]
    },
    {
     "name": "stderr",
     "output_type": "stream",
     "text": [
      "  6%|▌         | 301/5000 [5:26:19<82:52:13, 63.49s/it]"
     ]
    },
    {
     "name": "stdout",
     "output_type": "stream",
     "text": [
      "[301] train loss: 0.000864 \n",
      "[301] \u001b[94mvalidate\u001b[0m loss: 0.001030\n",
      "Validation loss decreased (0.000865 --> 0.000864).  Saving model ...\n"
     ]
    },
    {
     "name": "stderr",
     "output_type": "stream",
     "text": [
      "  6%|▌         | 302/5000 [5:27:23<82:46:07, 63.42s/it]"
     ]
    },
    {
     "name": "stdout",
     "output_type": "stream",
     "text": [
      "[302] train loss: 0.000864 \n",
      "[302] \u001b[94mvalidate\u001b[0m loss: 0.001035\n",
      "Validation loss decreased (0.000864 --> 0.000864).  Saving model ...\n"
     ]
    },
    {
     "name": "stderr",
     "output_type": "stream",
     "text": [
      "  6%|▌         | 303/5000 [5:28:23<81:31:22, 62.48s/it]"
     ]
    },
    {
     "name": "stdout",
     "output_type": "stream",
     "text": [
      "[303] train loss: 0.000864 \n",
      "[303] \u001b[94mvalidate\u001b[0m loss: 0.001027\n",
      "EarlyStopping counter: 1 out of 20\n"
     ]
    },
    {
     "name": "stderr",
     "output_type": "stream",
     "text": [
      "  6%|▌         | 304/5000 [5:29:25<81:31:56, 62.50s/it]"
     ]
    },
    {
     "name": "stdout",
     "output_type": "stream",
     "text": [
      "[304] train loss: 0.000863 \n",
      "[304] \u001b[94mvalidate\u001b[0m loss: 0.001026\n",
      "Validation loss decreased (0.000864 --> 0.000863).  Saving model ...\n"
     ]
    },
    {
     "name": "stderr",
     "output_type": "stream",
     "text": [
      "  6%|▌         | 305/5000 [5:30:31<82:50:04, 63.52s/it]"
     ]
    },
    {
     "name": "stdout",
     "output_type": "stream",
     "text": [
      "[305] train loss: 0.000863 \n",
      "[305] \u001b[94mvalidate\u001b[0m loss: 0.001040\n",
      "Validation loss decreased (0.000863 --> 0.000863).  Saving model ...\n"
     ]
    },
    {
     "name": "stderr",
     "output_type": "stream",
     "text": [
      "  6%|▌         | 306/5000 [5:31:38<84:13:50, 64.60s/it]"
     ]
    },
    {
     "name": "stdout",
     "output_type": "stream",
     "text": [
      "[306] train loss: 0.000862 \n",
      "[306] \u001b[94mvalidate\u001b[0m loss: 0.001033\n",
      "Validation loss decreased (0.000863 --> 0.000862).  Saving model ...\n"
     ]
    },
    {
     "name": "stderr",
     "output_type": "stream",
     "text": [
      "  6%|▌         | 307/5000 [5:32:38<82:13:01, 63.07s/it]"
     ]
    },
    {
     "name": "stdout",
     "output_type": "stream",
     "text": [
      "[307] train loss: 0.000862 \n",
      "[307] \u001b[94mvalidate\u001b[0m loss: 0.001029\n",
      "Validation loss decreased (0.000862 --> 0.000862).  Saving model ...\n"
     ]
    },
    {
     "name": "stderr",
     "output_type": "stream",
     "text": [
      "  6%|▌         | 308/5000 [5:33:39<81:21:25, 62.42s/it]"
     ]
    },
    {
     "name": "stdout",
     "output_type": "stream",
     "text": [
      "[308] train loss: 0.000861 \n",
      "[308] \u001b[94mvalidate\u001b[0m loss: 0.001037\n",
      "Validation loss decreased (0.000862 --> 0.000861).  Saving model ...\n"
     ]
    },
    {
     "name": "stderr",
     "output_type": "stream",
     "text": [
      "  6%|▌         | 309/5000 [5:34:43<81:52:02, 62.83s/it]"
     ]
    },
    {
     "name": "stdout",
     "output_type": "stream",
     "text": [
      "[309] train loss: 0.000861 \n",
      "[309] \u001b[94mvalidate\u001b[0m loss: 0.001050\n",
      "Validation loss decreased (0.000861 --> 0.000861).  Saving model ...\n"
     ]
    },
    {
     "name": "stderr",
     "output_type": "stream",
     "text": [
      "  6%|▌         | 310/5000 [5:35:43<81:03:00, 62.21s/it]"
     ]
    },
    {
     "name": "stdout",
     "output_type": "stream",
     "text": [
      "[310] train loss: 0.000861 \n",
      "[310] \u001b[94mvalidate\u001b[0m loss: 0.001042\n",
      "Validation loss decreased (0.000861 --> 0.000861).  Saving model ...\n"
     ]
    },
    {
     "name": "stderr",
     "output_type": "stream",
     "text": [
      "  6%|▌         | 311/5000 [5:36:44<80:23:23, 61.72s/it]"
     ]
    },
    {
     "name": "stdout",
     "output_type": "stream",
     "text": [
      "[311] train loss: 0.000860 \n",
      "[311] \u001b[94mvalidate\u001b[0m loss: 0.001097\n",
      "Validation loss decreased (0.000861 --> 0.000860).  Saving model ...\n"
     ]
    },
    {
     "name": "stderr",
     "output_type": "stream",
     "text": [
      "  6%|▌         | 312/5000 [5:37:45<80:13:30, 61.61s/it]"
     ]
    },
    {
     "name": "stdout",
     "output_type": "stream",
     "text": [
      "[312] train loss: 0.000860 \n",
      "[312] \u001b[94mvalidate\u001b[0m loss: 0.001024\n",
      "Validation loss decreased (0.000860 --> 0.000860).  Saving model ...\n"
     ]
    }
   ],
   "source": [
    "import time \n",
    "start_time = time.perf_counter()\n",
    "train_main(config) \n",
    "end_time = time.perf_counter() \n",
    "print('time used to train model with 40/1000 patience is: ', (end_time - start_time)/60, 'mins')"
   ]
  }
 ],
 "metadata": {
  "kernelspec": {
   "display_name": "pytorch-2.0.1",
   "language": "python",
   "name": "pytorch-2.0.1"
  },
  "language_info": {
   "codemirror_mode": {
    "name": "ipython",
    "version": 3
   },
   "file_extension": ".py",
   "mimetype": "text/x-python",
   "name": "python",
   "nbconvert_exporter": "python",
   "pygments_lexer": "ipython3",
   "version": "3.9.16"
  }
 },
 "nbformat": 4,
 "nbformat_minor": 5
}
